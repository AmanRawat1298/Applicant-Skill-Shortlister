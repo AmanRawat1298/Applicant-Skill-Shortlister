{
  "nbformat": 4,
  "nbformat_minor": 0,
  "metadata": {
    "kernelspec": {
      "display_name": "Python 3",
      "language": "python",
      "name": "python3"
    },
    "language_info": {
      "codemirror_mode": {
        "name": "ipython",
        "version": 3
      },
      "file_extension": ".py",
      "mimetype": "text/x-python",
      "name": "python",
      "nbconvert_exporter": "python",
      "pygments_lexer": "ipython3",
      "version": "3.6.8"
    },
    "colab": {
      "name": "TASK_submission.ipynb",
      "provenance": [],
      "collapsed_sections": []
    }
  },
  "cells": [
    {
      "cell_type": "markdown",
      "metadata": {
        "id": "MbVPagGRCvye",
        "colab_type": "text"
      },
      "source": [
        "# **Model**: The applicant should provide his/her skills set and desired role; the model should be able to predict if the candidate has been shortlisted for interview or not. If the candidate is not shortlisted for interview; model should be able inform the skill gap."
      ]
    },
    {
      "cell_type": "markdown",
      "metadata": {
        "id": "Vxq-2UcJCvQy",
        "colab_type": "text"
      },
      "source": [
        "# Importing Libraries"
      ]
    },
    {
      "cell_type": "code",
      "metadata": {
        "id": "KD6MZrAP_-qH",
        "colab_type": "code",
        "colab": {}
      },
      "source": [
        "import numpy as np\n",
        "import pandas as pd\n",
        "import matplotlib.pyplot as plt\n",
        "import seaborn as sns\n",
        "import os\n",
        "\n",
        "from sklearn.model_selection import train_test_split, cross_val_score\n",
        "from sklearn.metrics import accuracy_score, confusion_matrix\n",
        "from sklearn.linear_model import LogisticRegression"
      ],
      "execution_count": 0,
      "outputs": []
    },
    {
      "cell_type": "markdown",
      "metadata": {
        "id": "vrzb9bC4C2BL",
        "colab_type": "text"
      },
      "source": [
        ""
      ]
    },
    {
      "cell_type": "code",
      "metadata": {
        "id": "iw7OSxja_-qT",
        "colab_type": "code",
        "colab": {}
      },
      "source": [
        "# !pip install xlrd"
      ],
      "execution_count": 0,
      "outputs": []
    },
    {
      "cell_type": "code",
      "metadata": {
        "id": "Zrp6lsXO_-qY",
        "colab_type": "code",
        "outputId": "a0801e8b-b32d-447e-c979-cf12098c75e8",
        "colab": {
          "base_uri": "https://localhost:8080/",
          "height": 323
        }
      },
      "source": [
        "data = pd.read_excel(\"sample_data_v4.xlsx\")\n",
        "data.info()"
      ],
      "execution_count": 174,
      "outputs": [
        {
          "output_type": "stream",
          "text": [
            "<class 'pandas.core.frame.DataFrame'>\n",
            "RangeIndex: 2168 entries, 0 to 2167\n",
            "Data columns (total 11 columns):\n",
            " #   Column                      Non-Null Count  Dtype \n",
            "---  ------                      --------------  ----- \n",
            " 0   Application ID              2168 non-null   object\n",
            " 1   Current City                2168 non-null   object\n",
            " 2   Other skills                2130 non-null   object\n",
            " 3   Institute                   2155 non-null   object\n",
            " 4   Degree                      2083 non-null   object\n",
            " 5   Stream                      2071 non-null   object\n",
            " 6   Current Year Of Graduation  2168 non-null   int64 \n",
            " 7   Performance_PG              351 non-null    object\n",
            " 8   Performance_UG              1834 non-null   object\n",
            " 9   Performance_12              1388 non-null   object\n",
            " 10  Performance_10              1288 non-null   object\n",
            "dtypes: int64(1), object(10)\n",
            "memory usage: 186.4+ KB\n"
          ],
          "name": "stdout"
        }
      ]
    },
    {
      "cell_type": "code",
      "metadata": {
        "id": "gvAlyQyP_-qg",
        "colab_type": "code",
        "outputId": "3f82dfaf-60df-468d-b85f-f92782401498",
        "colab": {
          "base_uri": "https://localhost:8080/",
          "height": 354
        }
      },
      "source": [
        "data.head()"
      ],
      "execution_count": 175,
      "outputs": [
        {
          "output_type": "execute_result",
          "data": {
            "application/vnd.google.colaboratory.module+javascript": "\n      import \"https://ssl.gstatic.com/colaboratory/data_table/a6224c040fa35dcf/data_table.js\";\n\n      window.createDataTable({\n        data: [[{\n            'v': 0,\n            'f': \"0\",\n        },\n\"MS0001\",\n\"Pune\",\n\"Machine Learning, Python\",\n\"Don Bosco Institute of Technology\",\n\"Bachelor of Engineering (B.E)\",\n\"Mechanical Engineering\",\n{\n            'v': 2018,\n            'f': \"2018\",\n        },\n{\n            'v': NaN,\n            'f': \"NaN\",\n        },\n\"8.13/10\",\nNaN,\nNaN],\n [{\n            'v': 1,\n            'f': \"1\",\n        },\n\"MS0002\",\n\"Pune\",\n\"Machine Learning, Python\",\n\"PES MCOE, Pune\",\n\"Bachelor of Engineering (B.E)\",\n\"Electronics and Telecommunication Engineering (ETE)\",\n{\n            'v': 2018,\n            'f': \"2018\",\n        },\n{\n            'v': NaN,\n            'f': \"NaN\",\n        },\n\"66.00/100\",\nNaN,\nNaN],\n [{\n            'v': 2,\n            'f': \"2\",\n        },\n\"MS0003\",\n\"Navi Mumbai\",\n\"Data Analytics, Data Science, Machine Learning, Python, Tableau\",\n\"Imarticus Learning\",\n\"PG Diploma in Data Science\",\nNaN,\n{\n            'v': 2020,\n            'f': \"2020\",\n        },\n{\n            'v': NaN,\n            'f': \"NaN\",\n        },\n\"7.00/10\",\nNaN,\nNaN],\n [{\n            'v': 3,\n            'f': \"3\",\n        },\n\"MS0004\",\n\"Bangalore\",\n\"Data Analytics, Algorithms, C Programming, Data Science, Data Structures, Deep Learning, Machine Learning, Natural Language Processing (NLP), Python, SQL, Statistical Modeling, Computer Vision, GitHub\",\n\"Dayananda Sagar Institutions\",\n\"Bachelor of Technology (B.Tech)\",\n\"Information Technology\",\n{\n            'v': 2022,\n            'f': \"2022\",\n        },\n{\n            'v': NaN,\n            'f': \"NaN\",\n        },\nNaN,\n\"86.80/86.80\",\n\"10.00/10.00\"],\n [{\n            'v': 4,\n            'f': \"4\",\n        },\n\"MS0005\",\n\"Mumbai\",\n\"Artifical Intelligence, Computer Vision, Deep Learning, Machine Learning, MySQL, Neural Networks, OpenCV, PHP, Python, SQL, Amazon Web Services (AWS), Data Analytics\",\n\"Pillai Hoc College Of Engineering And Technology, Mumbai\",\n\"Bachelor of Engineering (B.E)\",\n\"Information Technology\",\n{\n            'v': 2020,\n            'f': \"2020\",\n        },\n{\n            'v': NaN,\n            'f': \"NaN\",\n        },\n\"6.22/10\",\nNaN,\nNaN]],\n        columns: [[\"number\", \"index\"], [\"string\", \"Application ID\"], [\"string\", \"Current City\"], [\"string\", \"Other skills\"], [\"string\", \"Institute\"], [\"string\", \"Degree\"], [\"string\", \"Stream\"], [\"number\", \"Current Year Of Graduation\"], [\"number\", \"Performance_PG\"], [\"string\", \"Performance_UG\"], [\"string\", \"Performance_12\"], [\"string\", \"Performance_10\"]],\n        columnOptions: [{\"width\": \"1px\", \"className\": \"index_column\"}],\n        rowsPerPage: 25,\n        helpUrl: \"https://colab.research.google.com/notebooks/data_table.ipynb\",\n        suppressOutputScrolling: true,\n        minimumWidth: undefined,\n      });\n    ",
            "text/html": [
              "<div>\n",
              "<style scoped>\n",
              "    .dataframe tbody tr th:only-of-type {\n",
              "        vertical-align: middle;\n",
              "    }\n",
              "\n",
              "    .dataframe tbody tr th {\n",
              "        vertical-align: top;\n",
              "    }\n",
              "\n",
              "    .dataframe thead th {\n",
              "        text-align: right;\n",
              "    }\n",
              "</style>\n",
              "<table border=\"1\" class=\"dataframe\">\n",
              "  <thead>\n",
              "    <tr style=\"text-align: right;\">\n",
              "      <th></th>\n",
              "      <th>Application ID</th>\n",
              "      <th>Current City</th>\n",
              "      <th>Other skills</th>\n",
              "      <th>Institute</th>\n",
              "      <th>Degree</th>\n",
              "      <th>Stream</th>\n",
              "      <th>Current Year Of Graduation</th>\n",
              "      <th>Performance_PG</th>\n",
              "      <th>Performance_UG</th>\n",
              "      <th>Performance_12</th>\n",
              "      <th>Performance_10</th>\n",
              "    </tr>\n",
              "  </thead>\n",
              "  <tbody>\n",
              "    <tr>\n",
              "      <th>0</th>\n",
              "      <td>MS0001</td>\n",
              "      <td>Pune</td>\n",
              "      <td>Machine Learning, Python</td>\n",
              "      <td>Don Bosco Institute of Technology</td>\n",
              "      <td>Bachelor of Engineering (B.E)</td>\n",
              "      <td>Mechanical Engineering</td>\n",
              "      <td>2018</td>\n",
              "      <td>NaN</td>\n",
              "      <td>8.13/10</td>\n",
              "      <td>NaN</td>\n",
              "      <td>NaN</td>\n",
              "    </tr>\n",
              "    <tr>\n",
              "      <th>1</th>\n",
              "      <td>MS0002</td>\n",
              "      <td>Pune</td>\n",
              "      <td>Machine Learning, Python</td>\n",
              "      <td>PES MCOE, Pune</td>\n",
              "      <td>Bachelor of Engineering (B.E)</td>\n",
              "      <td>Electronics and Telecommunication Engineering ...</td>\n",
              "      <td>2018</td>\n",
              "      <td>NaN</td>\n",
              "      <td>66.00/100</td>\n",
              "      <td>NaN</td>\n",
              "      <td>NaN</td>\n",
              "    </tr>\n",
              "    <tr>\n",
              "      <th>2</th>\n",
              "      <td>MS0003</td>\n",
              "      <td>Navi Mumbai</td>\n",
              "      <td>Data Analytics, Data Science, Machine Learning...</td>\n",
              "      <td>Imarticus Learning</td>\n",
              "      <td>PG Diploma in Data Science</td>\n",
              "      <td>NaN</td>\n",
              "      <td>2020</td>\n",
              "      <td>NaN</td>\n",
              "      <td>7.00/10</td>\n",
              "      <td>NaN</td>\n",
              "      <td>NaN</td>\n",
              "    </tr>\n",
              "    <tr>\n",
              "      <th>3</th>\n",
              "      <td>MS0004</td>\n",
              "      <td>Bangalore</td>\n",
              "      <td>Data Analytics, Algorithms, C Programming, Dat...</td>\n",
              "      <td>Dayananda Sagar Institutions</td>\n",
              "      <td>Bachelor of Technology (B.Tech)</td>\n",
              "      <td>Information Technology</td>\n",
              "      <td>2022</td>\n",
              "      <td>NaN</td>\n",
              "      <td>NaN</td>\n",
              "      <td>86.80/86.80</td>\n",
              "      <td>10.00/10.00</td>\n",
              "    </tr>\n",
              "    <tr>\n",
              "      <th>4</th>\n",
              "      <td>MS0005</td>\n",
              "      <td>Mumbai</td>\n",
              "      <td>Artifical Intelligence, Computer Vision, Deep ...</td>\n",
              "      <td>Pillai Hoc College Of Engineering And Technolo...</td>\n",
              "      <td>Bachelor of Engineering (B.E)</td>\n",
              "      <td>Information Technology</td>\n",
              "      <td>2020</td>\n",
              "      <td>NaN</td>\n",
              "      <td>6.22/10</td>\n",
              "      <td>NaN</td>\n",
              "      <td>NaN</td>\n",
              "    </tr>\n",
              "  </tbody>\n",
              "</table>\n",
              "</div>"
            ],
            "text/plain": [
              "  Application ID Current City  ... Performance_12 Performance_10\n",
              "0         MS0001         Pune  ...            NaN            NaN\n",
              "1         MS0002         Pune  ...            NaN            NaN\n",
              "2         MS0003  Navi Mumbai  ...            NaN            NaN\n",
              "3         MS0004    Bangalore  ...    86.80/86.80    10.00/10.00\n",
              "4         MS0005       Mumbai  ...            NaN            NaN\n",
              "\n",
              "[5 rows x 11 columns]"
            ]
          },
          "metadata": {
            "tags": []
          },
          "execution_count": 175
        }
      ]
    },
    {
      "cell_type": "markdown",
      "metadata": {
        "id": "rCwtR5b7C-Dg",
        "colab_type": "text"
      },
      "source": [
        "# Cleaning and Preprocesssing Data\n"
      ]
    },
    {
      "cell_type": "code",
      "metadata": {
        "id": "rellJ19i_-qp",
        "colab_type": "code",
        "colab": {}
      },
      "source": [
        "# Droping null values in the \"Other skills\" column\n",
        "data.dropna( subset=[\"Other skills\"], inplace = True )"
      ],
      "execution_count": 0,
      "outputs": []
    },
    {
      "cell_type": "markdown",
      "metadata": {
        "id": "42cZo4qgDJIV",
        "colab_type": "text"
      },
      "source": [
        "### Converting string data to list "
      ]
    },
    {
      "cell_type": "code",
      "metadata": {
        "id": "-4Hg6fDd_-qx",
        "colab_type": "code",
        "outputId": "609b6e6c-e7a2-4718-9687-5d158e40544d",
        "colab": {
          "base_uri": "https://localhost:8080/",
          "height": 34
        }
      },
      "source": [
        "skills = []\n",
        "for ix in data[\"Other skills\"]:\n",
        "    # Spliting skillset string and making a list of it\n",
        "    skills.append(ix.split(\", \"))\n",
        "\n",
        "\n",
        "#Skills of first 2 applicants\n",
        "skills[:2]"
      ],
      "execution_count": 177,
      "outputs": [
        {
          "output_type": "execute_result",
          "data": {
            "text/plain": [
              "[['Machine Learning', 'Python'], ['Machine Learning', 'Python']]"
            ]
          },
          "metadata": {
            "tags": []
          },
          "execution_count": 177
        }
      ]
    },
    {
      "cell_type": "code",
      "metadata": {
        "id": "YT_5sYOg_-q1",
        "colab_type": "code",
        "outputId": "d857ca74-04a7-4327-a83c-c03f7b6931e0",
        "colab": {
          "base_uri": "https://localhost:8080/",
          "height": 466
        }
      },
      "source": [
        "#Creating new columns to store the list of new features\n",
        "data[\"skillset\"] = skills\n",
        "# data.drop(columns = ['Application ID', 'Current City', 'Other skills'], inplace=True)\n",
        "data.head()"
      ],
      "execution_count": 178,
      "outputs": [
        {
          "output_type": "execute_result",
          "data": {
            "application/vnd.google.colaboratory.module+javascript": "\n      import \"https://ssl.gstatic.com/colaboratory/data_table/a6224c040fa35dcf/data_table.js\";\n\n      window.createDataTable({\n        data: [[{\n            'v': 0,\n            'f': \"0\",\n        },\n\"MS0001\",\n\"Pune\",\n\"Machine Learning, Python\",\n\"Don Bosco Institute of Technology\",\n\"Bachelor of Engineering (B.E)\",\n\"Mechanical Engineering\",\n{\n            'v': 2018,\n            'f': \"2018\",\n        },\n{\n            'v': NaN,\n            'f': \"NaN\",\n        },\n\"8.13/10\",\nNaN,\nNaN,\n[\"Machine Learning\", \"Python\"]],\n [{\n            'v': 1,\n            'f': \"1\",\n        },\n\"MS0002\",\n\"Pune\",\n\"Machine Learning, Python\",\n\"PES MCOE, Pune\",\n\"Bachelor of Engineering (B.E)\",\n\"Electronics and Telecommunication Engineering (ETE)\",\n{\n            'v': 2018,\n            'f': \"2018\",\n        },\n{\n            'v': NaN,\n            'f': \"NaN\",\n        },\n\"66.00/100\",\nNaN,\nNaN,\n[\"Machine Learning\", \"Python\"]],\n [{\n            'v': 2,\n            'f': \"2\",\n        },\n\"MS0003\",\n\"Navi Mumbai\",\n\"Data Analytics, Data Science, Machine Learning, Python, Tableau\",\n\"Imarticus Learning\",\n\"PG Diploma in Data Science\",\nNaN,\n{\n            'v': 2020,\n            'f': \"2020\",\n        },\n{\n            'v': NaN,\n            'f': \"NaN\",\n        },\n\"7.00/10\",\nNaN,\nNaN,\n[\"Data Analytics\", \"Data Science\", \"Machine Learning\", \"Python\", \"Tableau\"]],\n [{\n            'v': 3,\n            'f': \"3\",\n        },\n\"MS0004\",\n\"Bangalore\",\n\"Data Analytics, Algorithms, C Programming, Data Science, Data Structures, Deep Learning, Machine Learning, Natural Language Processing (NLP), Python, SQL, Statistical Modeling, Computer Vision, GitHub\",\n\"Dayananda Sagar Institutions\",\n\"Bachelor of Technology (B.Tech)\",\n\"Information Technology\",\n{\n            'v': 2022,\n            'f': \"2022\",\n        },\n{\n            'v': NaN,\n            'f': \"NaN\",\n        },\nNaN,\n\"86.80/86.80\",\n\"10.00/10.00\",\n[\"Data Analytics\", \"Algorithms\", \"C Programming\", \"Data Science\", \"Data Structures\", \"Deep Learning\", \"Machine Learning\", \"Natural Language Processing (NLP)\", \"Python\", \"SQL\", \"Statistical Modeling\", \"Computer Vision\", \"GitHub\"]],\n [{\n            'v': 4,\n            'f': \"4\",\n        },\n\"MS0005\",\n\"Mumbai\",\n\"Artifical Intelligence, Computer Vision, Deep Learning, Machine Learning, MySQL, Neural Networks, OpenCV, PHP, Python, SQL, Amazon Web Services (AWS), Data Analytics\",\n\"Pillai Hoc College Of Engineering And Technology, Mumbai\",\n\"Bachelor of Engineering (B.E)\",\n\"Information Technology\",\n{\n            'v': 2020,\n            'f': \"2020\",\n        },\n{\n            'v': NaN,\n            'f': \"NaN\",\n        },\n\"6.22/10\",\nNaN,\nNaN,\n[\"Artifical Intelligence\", \"Computer Vision\", \"Deep Learning\", \"Machine Learning\", \"MySQL\", \"Neural Networks\", \"OpenCV\", \"PHP\", \"Python\", \"SQL\", \"Amazon Web Services (AWS)\", \"Data Analytics\"]]],\n        columns: [[\"number\", \"index\"], [\"string\", \"Application ID\"], [\"string\", \"Current City\"], [\"string\", \"Other skills\"], [\"string\", \"Institute\"], [\"string\", \"Degree\"], [\"string\", \"Stream\"], [\"number\", \"Current Year Of Graduation\"], [\"number\", \"Performance_PG\"], [\"string\", \"Performance_UG\"], [\"string\", \"Performance_12\"], [\"string\", \"Performance_10\"], [\"string\", \"skillset\"]],\n        columnOptions: [{\"width\": \"1px\", \"className\": \"index_column\"}],\n        rowsPerPage: 25,\n        helpUrl: \"https://colab.research.google.com/notebooks/data_table.ipynb\",\n        suppressOutputScrolling: true,\n        minimumWidth: undefined,\n      });\n    ",
            "text/html": [
              "<div>\n",
              "<style scoped>\n",
              "    .dataframe tbody tr th:only-of-type {\n",
              "        vertical-align: middle;\n",
              "    }\n",
              "\n",
              "    .dataframe tbody tr th {\n",
              "        vertical-align: top;\n",
              "    }\n",
              "\n",
              "    .dataframe thead th {\n",
              "        text-align: right;\n",
              "    }\n",
              "</style>\n",
              "<table border=\"1\" class=\"dataframe\">\n",
              "  <thead>\n",
              "    <tr style=\"text-align: right;\">\n",
              "      <th></th>\n",
              "      <th>Application ID</th>\n",
              "      <th>Current City</th>\n",
              "      <th>Other skills</th>\n",
              "      <th>Institute</th>\n",
              "      <th>Degree</th>\n",
              "      <th>Stream</th>\n",
              "      <th>Current Year Of Graduation</th>\n",
              "      <th>Performance_PG</th>\n",
              "      <th>Performance_UG</th>\n",
              "      <th>Performance_12</th>\n",
              "      <th>Performance_10</th>\n",
              "      <th>skillset</th>\n",
              "    </tr>\n",
              "  </thead>\n",
              "  <tbody>\n",
              "    <tr>\n",
              "      <th>0</th>\n",
              "      <td>MS0001</td>\n",
              "      <td>Pune</td>\n",
              "      <td>Machine Learning, Python</td>\n",
              "      <td>Don Bosco Institute of Technology</td>\n",
              "      <td>Bachelor of Engineering (B.E)</td>\n",
              "      <td>Mechanical Engineering</td>\n",
              "      <td>2018</td>\n",
              "      <td>NaN</td>\n",
              "      <td>8.13/10</td>\n",
              "      <td>NaN</td>\n",
              "      <td>NaN</td>\n",
              "      <td>[Machine Learning, Python]</td>\n",
              "    </tr>\n",
              "    <tr>\n",
              "      <th>1</th>\n",
              "      <td>MS0002</td>\n",
              "      <td>Pune</td>\n",
              "      <td>Machine Learning, Python</td>\n",
              "      <td>PES MCOE, Pune</td>\n",
              "      <td>Bachelor of Engineering (B.E)</td>\n",
              "      <td>Electronics and Telecommunication Engineering ...</td>\n",
              "      <td>2018</td>\n",
              "      <td>NaN</td>\n",
              "      <td>66.00/100</td>\n",
              "      <td>NaN</td>\n",
              "      <td>NaN</td>\n",
              "      <td>[Machine Learning, Python]</td>\n",
              "    </tr>\n",
              "    <tr>\n",
              "      <th>2</th>\n",
              "      <td>MS0003</td>\n",
              "      <td>Navi Mumbai</td>\n",
              "      <td>Data Analytics, Data Science, Machine Learning...</td>\n",
              "      <td>Imarticus Learning</td>\n",
              "      <td>PG Diploma in Data Science</td>\n",
              "      <td>NaN</td>\n",
              "      <td>2020</td>\n",
              "      <td>NaN</td>\n",
              "      <td>7.00/10</td>\n",
              "      <td>NaN</td>\n",
              "      <td>NaN</td>\n",
              "      <td>[Data Analytics, Data Science, Machine Learnin...</td>\n",
              "    </tr>\n",
              "    <tr>\n",
              "      <th>3</th>\n",
              "      <td>MS0004</td>\n",
              "      <td>Bangalore</td>\n",
              "      <td>Data Analytics, Algorithms, C Programming, Dat...</td>\n",
              "      <td>Dayananda Sagar Institutions</td>\n",
              "      <td>Bachelor of Technology (B.Tech)</td>\n",
              "      <td>Information Technology</td>\n",
              "      <td>2022</td>\n",
              "      <td>NaN</td>\n",
              "      <td>NaN</td>\n",
              "      <td>86.80/86.80</td>\n",
              "      <td>10.00/10.00</td>\n",
              "      <td>[Data Analytics, Algorithms, C Programming, Da...</td>\n",
              "    </tr>\n",
              "    <tr>\n",
              "      <th>4</th>\n",
              "      <td>MS0005</td>\n",
              "      <td>Mumbai</td>\n",
              "      <td>Artifical Intelligence, Computer Vision, Deep ...</td>\n",
              "      <td>Pillai Hoc College Of Engineering And Technolo...</td>\n",
              "      <td>Bachelor of Engineering (B.E)</td>\n",
              "      <td>Information Technology</td>\n",
              "      <td>2020</td>\n",
              "      <td>NaN</td>\n",
              "      <td>6.22/10</td>\n",
              "      <td>NaN</td>\n",
              "      <td>NaN</td>\n",
              "      <td>[Artifical Intelligence, Computer Vision, Deep...</td>\n",
              "    </tr>\n",
              "  </tbody>\n",
              "</table>\n",
              "</div>"
            ],
            "text/plain": [
              "  Application ID  ...                                           skillset\n",
              "0         MS0001  ...                         [Machine Learning, Python]\n",
              "1         MS0002  ...                         [Machine Learning, Python]\n",
              "2         MS0003  ...  [Data Analytics, Data Science, Machine Learnin...\n",
              "3         MS0004  ...  [Data Analytics, Algorithms, C Programming, Da...\n",
              "4         MS0005  ...  [Artifical Intelligence, Computer Vision, Deep...\n",
              "\n",
              "[5 rows x 12 columns]"
            ]
          },
          "metadata": {
            "tags": []
          },
          "execution_count": 178
        }
      ]
    },
    {
      "cell_type": "code",
      "metadata": {
        "id": "-zGS6vUYD8B2",
        "colab_type": "code",
        "outputId": "6883337a-fce7-48e9-f41c-0fdbfc299d40",
        "colab": {
          "base_uri": "https://localhost:8080/",
          "height": 34
        }
      },
      "source": [
        "#The new column values are list as we expected!\n",
        "type(data['skillset'][0])"
      ],
      "execution_count": 179,
      "outputs": [
        {
          "output_type": "execute_result",
          "data": {
            "text/plain": [
              "list"
            ]
          },
          "metadata": {
            "tags": []
          },
          "execution_count": 179
        }
      ]
    },
    {
      "cell_type": "markdown",
      "metadata": {
        "id": "XX0cILk8ElBV",
        "colab_type": "text"
      },
      "source": [
        "## We have missing rows in this dataset, which cant  be accessed or iterated"
      ]
    },
    {
      "cell_type": "code",
      "metadata": {
        "id": "gzV8aLm6LV9W",
        "colab_type": "code",
        "colab": {}
      },
      "source": [
        "\n",
        "data.drop(columns=['Application ID', 'Current City', 'Other skills','Institute', 'Degree', 'Stream', 'Current Year Of Graduation',\n",
        "       'Performance_PG', 'Performance_UG', 'Performance_12', 'Performance_10'], inplace=True)"
      ],
      "execution_count": 0,
      "outputs": []
    },
    {
      "cell_type": "code",
      "metadata": {
        "id": "FSA8jibmF3jl",
        "colab_type": "code",
        "outputId": "9ce902c5-5f76-4843-ae9f-a72590ca34ee",
        "colab": {
          "base_uri": "https://localhost:8080/",
          "height": 119
        }
      },
      "source": [
        "data[\"skillset\"][335:340]\n",
        "\n",
        "#Look 338 isnt there, and its creating problem on iteration and selecting row no."
      ],
      "execution_count": 181,
      "outputs": [
        {
          "output_type": "execute_result",
          "data": {
            "text/plain": [
              "335    [Android, C++ Programming, Data Structures, En...\n",
              "336    [Adobe Photoshop, C Programming, C++ Programmi...\n",
              "337    [CSS, HTML, JavaScript, Machine Learning, Pyth...\n",
              "339       [Python, C Programming, C++ Programming, Java]\n",
              "340    [Algorithms, C++ Programming, Data Analytics, ...\n",
              "Name: skillset, dtype: object"
            ]
          },
          "metadata": {
            "tags": []
          },
          "execution_count": 181
        }
      ]
    },
    {
      "cell_type": "code",
      "metadata": {
        "id": "2ywndMsuEjdk",
        "colab_type": "code",
        "colab": {}
      },
      "source": [
        "# You can see by running this .\n",
        "# data[:][338]"
      ],
      "execution_count": 0,
      "outputs": []
    },
    {
      "cell_type": "markdown",
      "metadata": {
        "id": "_L1avdXFE3ip",
        "colab_type": "text"
      },
      "source": [
        "---------------------------------------------------------------------------\n",
        "KeyError                                  Traceback (most recent call last)\n",
        "/usr/local/lib/python3.6/dist-packages/pandas/core/indexes/base.py in get_loc(self, key, method, tolerance)\n",
        "   2645             try:\n",
        "-> 2646                 return self._engine.get_loc(key)\n",
        "   2647             except KeyError:\n",
        "\n",
        "pandas/_libs/index.pyx in pandas._libs.index.IndexEngine.get_loc()\n",
        "\n",
        "pandas/_libs/index.pyx in pandas._libs.index.IndexEngine.get_loc()\n",
        "\n",
        "pandas/_libs/hashtable_class_helper.pxi in pandas._libs.hashtable.PyObjectHashTable.get_item()\n",
        "\n",
        "pandas/_libs/hashtable_class_helper.pxi in pandas._libs.hashtable.PyObjectHashTable.get_item()\n",
        "\n",
        "KeyError: 338\n",
        "\n",
        "During handling of the above exception, another exception occurred:\n",
        "\n",
        "KeyError                                  Traceback (most recent call last)\n",
        "2 frames\n",
        "/usr/local/lib/python3.6/dist-packages/pandas/core/indexes/base.py in get_loc(self, key, method, tolerance)\n",
        "   2646                 return self._engine.get_loc(key)\n",
        "   2647             except KeyError:\n",
        "-> 2648                 return self._engine.get_loc(self._maybe_cast_indexer(key))\n",
        "   2649         indexer = self.get_indexer([key], method=method, tolerance=tolerance)\n",
        "   2650         if indexer.ndim > 1 or indexer.size > 1:\n",
        "\n",
        "pandas/_libs/index.pyx in pandas._libs.index.IndexEngine.get_loc()\n",
        "\n",
        "pandas/_libs/index.pyx in pandas._libs.index.IndexEngine.get_loc()\n",
        "\n",
        "pandas/_libs/hashtable_class_helper.pxi in pandas._libs.hashtable.PyObjectHashTable.get_item()\n",
        "\n",
        "pandas/_libs/hashtable_class_helper.pxi in pandas._libs.hashtable.PyObjectHashTable.get_item()\n",
        "\n",
        "KeyError: 338"
      ]
    },
    {
      "cell_type": "markdown",
      "metadata": {
        "id": "fVQk3yZd8JTb",
        "colab_type": "text"
      },
      "source": [
        "## As we have missing rows int the data , so i have created a new dataframe with values of old dataframe to solve the problem."
      ]
    },
    {
      "cell_type": "code",
      "metadata": {
        "id": "8RwZ4VRh_-q4",
        "colab_type": "code",
        "colab": {}
      },
      "source": [
        "clean = pd.DataFrame(data.values, columns=data.columns )"
      ],
      "execution_count": 0,
      "outputs": []
    },
    {
      "cell_type": "code",
      "metadata": {
        "id": "Gy4ZH4skFG8M",
        "colab_type": "code",
        "outputId": "75e685ef-4e6b-4013-8e34-a394d95efd52",
        "colab": {
          "base_uri": "https://localhost:8080/",
          "height": 204
        }
      },
      "source": [
        "# Rows are iterable in this dataframe\n",
        "clean[\"skillset\"][330:340]"
      ],
      "execution_count": 184,
      "outputs": [
        {
          "output_type": "execute_result",
          "data": {
            "text/plain": [
              "330    [Arduino, Artifical Intelligence, C++ Programm...\n",
              "331    [Bootstrap, HTML, Python, SQL, CSS, Django, Fl...\n",
              "332    [C Programming, Data Analytics, Data Structure...\n",
              "333    [C Programming, Python, Deep Learning, Image P...\n",
              "334    [Creative Writing, MS-Excel, Python, Adobe Pho...\n",
              "335    [Android, C++ Programming, Data Structures, En...\n",
              "336    [Adobe Photoshop, C Programming, C++ Programmi...\n",
              "337    [CSS, HTML, JavaScript, Machine Learning, Pyth...\n",
              "338       [Python, C Programming, C++ Programming, Java]\n",
              "339    [Algorithms, C++ Programming, Data Analytics, ...\n",
              "Name: skillset, dtype: object"
            ]
          },
          "metadata": {
            "tags": []
          },
          "execution_count": 184
        }
      ]
    },
    {
      "cell_type": "markdown",
      "metadata": {
        "id": "-eK7wTSI8szN",
        "colab_type": "text"
      },
      "source": [
        "## Creating a set for all the skills entered in the data\n"
      ]
    },
    {
      "cell_type": "code",
      "metadata": {
        "id": "5FQ-MKXxFFrW",
        "colab_type": "code",
        "outputId": "bf759ddb-bf17-4ca6-987e-8bc5fdbb01ca",
        "colab": {
          "base_uri": "https://localhost:8080/",
          "height": 194
        }
      },
      "source": [
        "clean.head()"
      ],
      "execution_count": 185,
      "outputs": [
        {
          "output_type": "execute_result",
          "data": {
            "application/vnd.google.colaboratory.module+javascript": "\n      import \"https://ssl.gstatic.com/colaboratory/data_table/a6224c040fa35dcf/data_table.js\";\n\n      window.createDataTable({\n        data: [[{\n            'v': 0,\n            'f': \"0\",\n        },\n[\"Machine Learning\", \"Python\"]],\n [{\n            'v': 1,\n            'f': \"1\",\n        },\n[\"Machine Learning\", \"Python\"]],\n [{\n            'v': 2,\n            'f': \"2\",\n        },\n[\"Data Analytics\", \"Data Science\", \"Machine Learning\", \"Python\", \"Tableau\"]],\n [{\n            'v': 3,\n            'f': \"3\",\n        },\n[\"Data Analytics\", \"Algorithms\", \"C Programming\", \"Data Science\", \"Data Structures\", \"Deep Learning\", \"Machine Learning\", \"Natural Language Processing (NLP)\", \"Python\", \"SQL\", \"Statistical Modeling\", \"Computer Vision\", \"GitHub\"]],\n [{\n            'v': 4,\n            'f': \"4\",\n        },\n[\"Artifical Intelligence\", \"Computer Vision\", \"Deep Learning\", \"Machine Learning\", \"MySQL\", \"Neural Networks\", \"OpenCV\", \"PHP\", \"Python\", \"SQL\", \"Amazon Web Services (AWS)\", \"Data Analytics\"]]],\n        columns: [[\"number\", \"index\"], [\"string\", \"skillset\"]],\n        columnOptions: [{\"width\": \"1px\", \"className\": \"index_column\"}],\n        rowsPerPage: 25,\n        helpUrl: \"https://colab.research.google.com/notebooks/data_table.ipynb\",\n        suppressOutputScrolling: true,\n        minimumWidth: undefined,\n      });\n    ",
            "text/html": [
              "<div>\n",
              "<style scoped>\n",
              "    .dataframe tbody tr th:only-of-type {\n",
              "        vertical-align: middle;\n",
              "    }\n",
              "\n",
              "    .dataframe tbody tr th {\n",
              "        vertical-align: top;\n",
              "    }\n",
              "\n",
              "    .dataframe thead th {\n",
              "        text-align: right;\n",
              "    }\n",
              "</style>\n",
              "<table border=\"1\" class=\"dataframe\">\n",
              "  <thead>\n",
              "    <tr style=\"text-align: right;\">\n",
              "      <th></th>\n",
              "      <th>skillset</th>\n",
              "    </tr>\n",
              "  </thead>\n",
              "  <tbody>\n",
              "    <tr>\n",
              "      <th>0</th>\n",
              "      <td>[Machine Learning, Python]</td>\n",
              "    </tr>\n",
              "    <tr>\n",
              "      <th>1</th>\n",
              "      <td>[Machine Learning, Python]</td>\n",
              "    </tr>\n",
              "    <tr>\n",
              "      <th>2</th>\n",
              "      <td>[Data Analytics, Data Science, Machine Learnin...</td>\n",
              "    </tr>\n",
              "    <tr>\n",
              "      <th>3</th>\n",
              "      <td>[Data Analytics, Algorithms, C Programming, Da...</td>\n",
              "    </tr>\n",
              "    <tr>\n",
              "      <th>4</th>\n",
              "      <td>[Artifical Intelligence, Computer Vision, Deep...</td>\n",
              "    </tr>\n",
              "  </tbody>\n",
              "</table>\n",
              "</div>"
            ],
            "text/plain": [
              "                                            skillset\n",
              "0                         [Machine Learning, Python]\n",
              "1                         [Machine Learning, Python]\n",
              "2  [Data Analytics, Data Science, Machine Learnin...\n",
              "3  [Data Analytics, Algorithms, C Programming, Da...\n",
              "4  [Artifical Intelligence, Computer Vision, Deep..."
            ]
          },
          "metadata": {
            "tags": []
          },
          "execution_count": 185
        }
      ]
    },
    {
      "cell_type": "markdown",
      "metadata": {
        "id": "pQzL28KCMivI",
        "colab_type": "text"
      },
      "source": [
        "## Creating a set of all the sets entered by the applicants"
      ]
    },
    {
      "cell_type": "code",
      "metadata": {
        "id": "wQn22f1p8yzw",
        "colab_type": "code",
        "outputId": "5e18e65b-a489-4cbf-cbe4-5a4dd91151c2",
        "colab": {
          "base_uri": "https://localhost:8080/",
          "height": 34
        }
      },
      "source": [
        "thisset = {\"\",}\n",
        "for ix in skills:\n",
        "    for j in ix:\n",
        "        thisset.add(j)\n",
        "thisset.remove(\"\")\n",
        "print(\"There are \",len(thisset), \" different skills entered by the applicants\") # 255 unique skills entered in the datasets"
      ],
      "execution_count": 186,
      "outputs": [
        {
          "output_type": "stream",
          "text": [
            "There are  255  different skills entered by the applicants\n"
          ],
          "name": "stdout"
        }
      ]
    },
    {
      "cell_type": "markdown",
      "metadata": {
        "id": "Z_ksiy2k_-rB",
        "colab_type": "text"
      },
      "source": [
        "## Required Skills [Criteria]:\n",
        "### Web Developer: \n",
        "HTML, CSS, Bootstrap, AJAX, JavaScript, PHP, MySQL, REST API, AWS/GCP,\n",
        "Git/GitHub, Python, Linux, JSON, Authentication/Authorization (JWT)\n",
        "### FullStack Developer:\n",
        "HTML, CSS, MongoDB, Express, React.js, Node.js, ES6, Redux,\n",
        "JavaScript, AWS/GCP, Python, Linux, JSON, Authentication/Authorization (JWT)\n",
        "### ML Developer: \n",
        "Python, TensorFlow, PyTorch, NumPy, PyPI, Sci-kit learn, Statistical\n",
        "Modelling, Machine Learning, Deep Learning, SQL, JSON, AWS/GCP/Heroku, Flask"
      ]
    },
    {
      "cell_type": "code",
      "metadata": {
        "id": "PyttoyZV9Ln5",
        "colab_type": "code",
        "colab": {}
      },
      "source": [
        "#  PROBLEMS:\n",
        "# All the required skills are not present in dataset\n",
        "# ie some required skills are not at all present in the dataset\n",
        "# Some skills name are written differently by different applicants\n"
      ],
      "execution_count": 0,
      "outputs": []
    },
    {
      "cell_type": "markdown",
      "metadata": {
        "id": "Y7xRfLfl9HSL",
        "colab_type": "text"
      },
      "source": [
        "### AWS\n",
        " - 'Amazon Web Server (AWS)'\n",
        " - 'Amazon Web Services (AWS)'\n",
        "\n",
        "### GCP\n",
        " - 'Google Cloud Computing' ,Google Cloud Platform\n",
        "\n",
        "### Git/GitHub\n",
        " - GitHub\n",
        "\n",
        "### Express\n",
        " - Express.js\n",
        "\n",
        "### AWS/GCP/Heroku      \n",
        " - heroku\n",
        " \n",
        "---------------------------------------\n",
        "\n",
        "### NOT FOUND\n",
        " - ES6, \n",
        " - Pytorch, \n",
        " - Numpy, \n",
        " - Pypi, \n",
        " - Sci-kit learn, \n",
        " - Statistical Modelling, \n",
        " - Authentication/Authorization (JWT), \n",
        " - TensorFlow"
      ]
    },
    {
      "cell_type": "markdown",
      "metadata": {
        "id": "fQm_AYPRNmhU",
        "colab_type": "text"
      },
      "source": [
        "## What we should done is:\n",
        "  -  we will write all the different names of one skill as column name and use string.find() function to check whether the skill entered by applicant is present in the portion of column name (all names of same dataset).\n",
        "  - Mostly every skills has completely different \n",
        "  - One problem is with Java and JavaScript as Java is present in column name JavaScript so we can write an if else for this case\n",
        "   "
      ]
    },
    {
      "cell_type": "markdown",
      "metadata": {
        "id": "ReKqRf_SZttS",
        "colab_type": "text"
      },
      "source": [
        "## Containing those columns which are present in dataset"
      ]
    },
    {
      "cell_type": "code",
      "metadata": {
        "id": "kDpA3f-QZmya",
        "colab_type": "code",
        "colab": {}
      },
      "source": [
        "# So we can assign combined column names which will help in labeling data.\n",
        "modified_columns = [ ' HTML ', ' CSS ', ' Bootstrap ', ' AJAX ', ' JavaScript ', ' PHP ' , ' MySQL SQL ', ' REST API ', ' AWS Amazon Web Server (AWS) Amazon Web Services (AWS) ',' GCP Google Cloud Computing Google Cloud Platform ', ' Git GitHub ', ' Python ', ' Linux ', ' JSON ', ' MongoDB ', ' Express.js ', ' React.js REACTJS ', ' Node.js ' , ' Redux ', ' Machine Learning ', ' Deep Learning ', ' Flask ', ' Heroku ', ]"
      ],
      "execution_count": 0,
      "outputs": []
    },
    {
      "cell_type": "code",
      "metadata": {
        "id": "dnX4uy3YThkt",
        "colab_type": "code",
        "outputId": "41bd4839-fec5-40f7-c536-846f3c57cac8",
        "colab": {
          "base_uri": "https://localhost:8080/",
          "height": 34
        }
      },
      "source": [
        "len(modified_columns)"
      ],
      "execution_count": 189,
      "outputs": [
        {
          "output_type": "execute_result",
          "data": {
            "text/plain": [
              "23"
            ]
          },
          "metadata": {
            "tags": []
          },
          "execution_count": 189
        }
      ]
    },
    {
      "cell_type": "code",
      "metadata": {
        "id": "Yic5fYQC9UUt",
        "colab_type": "code",
        "outputId": "28f7f98e-7f34-4253-ecbd-68cc773bfd16",
        "colab": {
          "base_uri": "https://localhost:8080/",
          "height": 68
        }
      },
      "source": [
        "thisset = {\"\",}\n",
        "skills = []\n",
        "for ix in clean[\"skillset\"]:\n",
        "    for j in ix:\n",
        "        thisset.add(j)\n",
        "        skills.append(j)\n",
        "thisset.remove(\"\")\n",
        "print(len(thisset))\n",
        "%load_ext google.colab.data_table\n",
        "skills = pd.DataFrame(skills, columns=['SKILL'])\n",
        "values = skills['SKILL'].value_counts().keys().tolist()\n",
        "counts = skills['SKILL'].value_counts().tolist()\n"
      ],
      "execution_count": 190,
      "outputs": [
        {
          "output_type": "stream",
          "text": [
            "255\n",
            "The google.colab.data_table extension is already loaded. To reload it, use:\n",
            "  %reload_ext google.colab.data_table\n"
          ],
          "name": "stdout"
        }
      ]
    },
    {
      "cell_type": "code",
      "metadata": {
        "id": "1BkzgeMHUBvd",
        "colab_type": "code",
        "outputId": "c0a5a95a-68e1-42b0-d1f8-7716026b50e4",
        "colab": {
          "base_uri": "https://localhost:8080/",
          "height": 187
        }
      },
      "source": [
        "# Count of each skills entered by applicants\n",
        "z = 0\n",
        "for i,j in zip(values, counts):\n",
        "  print(j,\"\\t:  \",i) \n",
        "  z = z+1\n",
        "  if(z==10):   # top 10 most occuring skills\n",
        "    break"
      ],
      "execution_count": 191,
      "outputs": [
        {
          "output_type": "stream",
          "text": [
            "1860 \t:   Python\n",
            "1449 \t:   Machine Learning\n",
            "832 \t:   C Programming\n",
            "735 \t:   Data Analytics\n",
            "716 \t:   C++ Programming\n",
            "710 \t:   Java\n",
            "698 \t:   HTML\n",
            "634 \t:   SQL\n",
            "634 \t:   Deep Learning\n",
            "608 \t:   MS-Excel\n"
          ],
          "name": "stdout"
        }
      ]
    },
    {
      "cell_type": "markdown",
      "metadata": {
        "id": "vJLRovM7MW65",
        "colab_type": "text"
      },
      "source": [
        "## Creating Dataset with columns denoting skills and having values 0 & 1.\n",
        " ### 0 : Doesnt have that skill\n",
        " ### 1: Have that skill\n"
      ]
    },
    {
      "cell_type": "code",
      "metadata": {
        "id": "RSbBg2goMV4H",
        "colab_type": "code",
        "colab": {}
      },
      "source": [
        "zero_ = np.zeros((2130,len(modified_columns)))\n",
        "new_data = pd.DataFrame(zero_, columns=modified_columns)"
      ],
      "execution_count": 0,
      "outputs": []
    },
    {
      "cell_type": "code",
      "metadata": {
        "id": "mLGKxCPUMV04",
        "colab_type": "code",
        "outputId": "1510bd92-0323-4eb8-d06d-b4ccc7f454e3",
        "colab": {
          "base_uri": "https://localhost:8080/",
          "height": 544
        }
      },
      "source": [
        "clean = pd.DataFrame(data.values, columns=data.columns )\n",
        "\n",
        "train = [clean, new_data]\n",
        "final = pd.concat(train, axis=1)\n",
        "\n",
        "final.info()"
      ],
      "execution_count": 193,
      "outputs": [
        {
          "output_type": "stream",
          "text": [
            "<class 'pandas.core.frame.DataFrame'>\n",
            "RangeIndex: 2130 entries, 0 to 2129\n",
            "Data columns (total 24 columns):\n",
            " #   Column                                                   Non-Null Count  Dtype  \n",
            "---  ------                                                   --------------  -----  \n",
            " 0   skillset                                                 2130 non-null   object \n",
            " 1    HTML                                                    2130 non-null   float64\n",
            " 2    CSS                                                     2130 non-null   float64\n",
            " 3    Bootstrap                                               2130 non-null   float64\n",
            " 4    AJAX                                                    2130 non-null   float64\n",
            " 5    JavaScript                                              2130 non-null   float64\n",
            " 6    PHP                                                     2130 non-null   float64\n",
            " 7    MySQL SQL                                               2130 non-null   float64\n",
            " 8    REST API                                                2130 non-null   float64\n",
            " 9    AWS Amazon Web Server (AWS) Amazon Web Services (AWS)   2130 non-null   float64\n",
            " 10   GCP Google Cloud Computing Google Cloud Platform        2130 non-null   float64\n",
            " 11   Git GitHub                                              2130 non-null   float64\n",
            " 12   Python                                                  2130 non-null   float64\n",
            " 13   Linux                                                   2130 non-null   float64\n",
            " 14   JSON                                                    2130 non-null   float64\n",
            " 15   MongoDB                                                 2130 non-null   float64\n",
            " 16   Express.js                                              2130 non-null   float64\n",
            " 17   React.js REACTJS                                        2130 non-null   float64\n",
            " 18   Node.js                                                 2130 non-null   float64\n",
            " 19   Redux                                                   2130 non-null   float64\n",
            " 20   Machine Learning                                        2130 non-null   float64\n",
            " 21   Deep Learning                                           2130 non-null   float64\n",
            " 22   Flask                                                   2130 non-null   float64\n",
            " 23   Heroku                                                  2130 non-null   float64\n",
            "dtypes: float64(23), object(1)\n",
            "memory usage: 399.5+ KB\n"
          ],
          "name": "stdout"
        }
      ]
    },
    {
      "cell_type": "code",
      "metadata": {
        "id": "n0mN4kp-c1lo",
        "colab_type": "code",
        "outputId": "0bfa39ed-3f55-4c45-d564-c19dc4068d2e",
        "colab": {
          "base_uri": "https://localhost:8080/",
          "height": 153
        }
      },
      "source": [
        "final.columns"
      ],
      "execution_count": 194,
      "outputs": [
        {
          "output_type": "execute_result",
          "data": {
            "text/plain": [
              "Index(['skillset', ' HTML ', ' CSS ', ' Bootstrap ', ' AJAX ', ' JavaScript ',\n",
              "       ' PHP ', ' MySQL SQL ', ' REST API ',\n",
              "       ' AWS Amazon Web Server (AWS) Amazon Web Services (AWS) ',\n",
              "       ' GCP Google Cloud Computing Google Cloud Platform ', ' Git GitHub ',\n",
              "       ' Python ', ' Linux ', ' JSON ', ' MongoDB ', ' Express.js ',\n",
              "       ' React.js REACTJS ', ' Node.js ', ' Redux ', ' Machine Learning ',\n",
              "       ' Deep Learning ', ' Flask ', ' Heroku '],\n",
              "      dtype='object')"
            ]
          },
          "metadata": {
            "tags": []
          },
          "execution_count": 194
        }
      ]
    },
    {
      "cell_type": "code",
      "metadata": {
        "id": "ooAEqPcElmDr",
        "colab_type": "code",
        "outputId": "6af9c249-34b1-4a86-f7b4-381e31509793",
        "colab": {
          "base_uri": "https://localhost:8080/",
          "height": 510
        }
      },
      "source": [
        "#Initially all values are 0 , we will check whether the skills mentioned in the column name are there in skillset , and then assigning 1 if present\n",
        "final.head()"
      ],
      "execution_count": 195,
      "outputs": [
        {
          "output_type": "execute_result",
          "data": {
            "text/html": [
              "<div>\n",
              "<style scoped>\n",
              "    .dataframe tbody tr th:only-of-type {\n",
              "        vertical-align: middle;\n",
              "    }\n",
              "\n",
              "    .dataframe tbody tr th {\n",
              "        vertical-align: top;\n",
              "    }\n",
              "\n",
              "    .dataframe thead th {\n",
              "        text-align: right;\n",
              "    }\n",
              "</style>\n",
              "<table border=\"1\" class=\"dataframe\">\n",
              "  <thead>\n",
              "    <tr style=\"text-align: right;\">\n",
              "      <th></th>\n",
              "      <th>skillset</th>\n",
              "      <th>HTML</th>\n",
              "      <th>CSS</th>\n",
              "      <th>Bootstrap</th>\n",
              "      <th>AJAX</th>\n",
              "      <th>JavaScript</th>\n",
              "      <th>PHP</th>\n",
              "      <th>MySQL SQL</th>\n",
              "      <th>REST API</th>\n",
              "      <th>AWS Amazon Web Server (AWS) Amazon Web Services (AWS)</th>\n",
              "      <th>GCP Google Cloud Computing Google Cloud Platform</th>\n",
              "      <th>Git GitHub</th>\n",
              "      <th>Python</th>\n",
              "      <th>Linux</th>\n",
              "      <th>JSON</th>\n",
              "      <th>MongoDB</th>\n",
              "      <th>Express.js</th>\n",
              "      <th>React.js REACTJS</th>\n",
              "      <th>Node.js</th>\n",
              "      <th>Redux</th>\n",
              "      <th>Machine Learning</th>\n",
              "      <th>Deep Learning</th>\n",
              "      <th>Flask</th>\n",
              "      <th>Heroku</th>\n",
              "    </tr>\n",
              "  </thead>\n",
              "  <tbody>\n",
              "    <tr>\n",
              "      <th>0</th>\n",
              "      <td>[Machine Learning, Python]</td>\n",
              "      <td>0.0</td>\n",
              "      <td>0.0</td>\n",
              "      <td>0.0</td>\n",
              "      <td>0.0</td>\n",
              "      <td>0.0</td>\n",
              "      <td>0.0</td>\n",
              "      <td>0.0</td>\n",
              "      <td>0.0</td>\n",
              "      <td>0.0</td>\n",
              "      <td>0.0</td>\n",
              "      <td>0.0</td>\n",
              "      <td>0.0</td>\n",
              "      <td>0.0</td>\n",
              "      <td>0.0</td>\n",
              "      <td>0.0</td>\n",
              "      <td>0.0</td>\n",
              "      <td>0.0</td>\n",
              "      <td>0.0</td>\n",
              "      <td>0.0</td>\n",
              "      <td>0.0</td>\n",
              "      <td>0.0</td>\n",
              "      <td>0.0</td>\n",
              "      <td>0.0</td>\n",
              "    </tr>\n",
              "    <tr>\n",
              "      <th>1</th>\n",
              "      <td>[Machine Learning, Python]</td>\n",
              "      <td>0.0</td>\n",
              "      <td>0.0</td>\n",
              "      <td>0.0</td>\n",
              "      <td>0.0</td>\n",
              "      <td>0.0</td>\n",
              "      <td>0.0</td>\n",
              "      <td>0.0</td>\n",
              "      <td>0.0</td>\n",
              "      <td>0.0</td>\n",
              "      <td>0.0</td>\n",
              "      <td>0.0</td>\n",
              "      <td>0.0</td>\n",
              "      <td>0.0</td>\n",
              "      <td>0.0</td>\n",
              "      <td>0.0</td>\n",
              "      <td>0.0</td>\n",
              "      <td>0.0</td>\n",
              "      <td>0.0</td>\n",
              "      <td>0.0</td>\n",
              "      <td>0.0</td>\n",
              "      <td>0.0</td>\n",
              "      <td>0.0</td>\n",
              "      <td>0.0</td>\n",
              "    </tr>\n",
              "    <tr>\n",
              "      <th>2</th>\n",
              "      <td>[Data Analytics, Data Science, Machine Learnin...</td>\n",
              "      <td>0.0</td>\n",
              "      <td>0.0</td>\n",
              "      <td>0.0</td>\n",
              "      <td>0.0</td>\n",
              "      <td>0.0</td>\n",
              "      <td>0.0</td>\n",
              "      <td>0.0</td>\n",
              "      <td>0.0</td>\n",
              "      <td>0.0</td>\n",
              "      <td>0.0</td>\n",
              "      <td>0.0</td>\n",
              "      <td>0.0</td>\n",
              "      <td>0.0</td>\n",
              "      <td>0.0</td>\n",
              "      <td>0.0</td>\n",
              "      <td>0.0</td>\n",
              "      <td>0.0</td>\n",
              "      <td>0.0</td>\n",
              "      <td>0.0</td>\n",
              "      <td>0.0</td>\n",
              "      <td>0.0</td>\n",
              "      <td>0.0</td>\n",
              "      <td>0.0</td>\n",
              "    </tr>\n",
              "    <tr>\n",
              "      <th>3</th>\n",
              "      <td>[Data Analytics, Algorithms, C Programming, Da...</td>\n",
              "      <td>0.0</td>\n",
              "      <td>0.0</td>\n",
              "      <td>0.0</td>\n",
              "      <td>0.0</td>\n",
              "      <td>0.0</td>\n",
              "      <td>0.0</td>\n",
              "      <td>0.0</td>\n",
              "      <td>0.0</td>\n",
              "      <td>0.0</td>\n",
              "      <td>0.0</td>\n",
              "      <td>0.0</td>\n",
              "      <td>0.0</td>\n",
              "      <td>0.0</td>\n",
              "      <td>0.0</td>\n",
              "      <td>0.0</td>\n",
              "      <td>0.0</td>\n",
              "      <td>0.0</td>\n",
              "      <td>0.0</td>\n",
              "      <td>0.0</td>\n",
              "      <td>0.0</td>\n",
              "      <td>0.0</td>\n",
              "      <td>0.0</td>\n",
              "      <td>0.0</td>\n",
              "    </tr>\n",
              "    <tr>\n",
              "      <th>4</th>\n",
              "      <td>[Artifical Intelligence, Computer Vision, Deep...</td>\n",
              "      <td>0.0</td>\n",
              "      <td>0.0</td>\n",
              "      <td>0.0</td>\n",
              "      <td>0.0</td>\n",
              "      <td>0.0</td>\n",
              "      <td>0.0</td>\n",
              "      <td>0.0</td>\n",
              "      <td>0.0</td>\n",
              "      <td>0.0</td>\n",
              "      <td>0.0</td>\n",
              "      <td>0.0</td>\n",
              "      <td>0.0</td>\n",
              "      <td>0.0</td>\n",
              "      <td>0.0</td>\n",
              "      <td>0.0</td>\n",
              "      <td>0.0</td>\n",
              "      <td>0.0</td>\n",
              "      <td>0.0</td>\n",
              "      <td>0.0</td>\n",
              "      <td>0.0</td>\n",
              "      <td>0.0</td>\n",
              "      <td>0.0</td>\n",
              "      <td>0.0</td>\n",
              "    </tr>\n",
              "  </tbody>\n",
              "</table>\n",
              "</div>"
            ],
            "text/plain": [
              "                                            skillset   HTML   ...   Flask    Heroku \n",
              "0                         [Machine Learning, Python]     0.0  ...      0.0       0.0\n",
              "1                         [Machine Learning, Python]     0.0  ...      0.0       0.0\n",
              "2  [Data Analytics, Data Science, Machine Learnin...     0.0  ...      0.0       0.0\n",
              "3  [Data Analytics, Algorithms, C Programming, Da...     0.0  ...      0.0       0.0\n",
              "4  [Artifical Intelligence, Computer Vision, Deep...     0.0  ...      0.0       0.0\n",
              "\n",
              "[5 rows x 24 columns]"
            ]
          },
          "metadata": {
            "tags": []
          },
          "execution_count": 195
        }
      ]
    },
    {
      "cell_type": "markdown",
      "metadata": {
        "id": "93t1zD_7VuWv",
        "colab_type": "text"
      },
      "source": [
        "## Assigning Labels:"
      ]
    },
    {
      "cell_type": "code",
      "metadata": {
        "id": "x-KU_gjTMVyb",
        "colab_type": "code",
        "outputId": "7b408239-d8da-4dcc-a098-d237a4b0583e",
        "colab": {
          "base_uri": "https://localhost:8080/",
          "height": 102
        }
      },
      "source": [
        "# Assigning values\n",
        "for ix in range(len(final['skillset'])):\n",
        "    for j in final['skillset'][ix]:\n",
        "      for col in modified_columns:\n",
        "\n",
        "\n",
        "        #checking whether the skill entered is present even in the sub part of the column name or not.\n",
        "        if(col.lower().find(j.lower()) != -1 ):\n",
        "\n",
        "          # handling our exception case of Java and JavaScript\n",
        "          if(col == \"JavaScript\" and j==\"Java\"):    \n",
        "              pass\n",
        "          else:  \n",
        "            final[col][ix] = 1\n",
        " "
      ],
      "execution_count": 196,
      "outputs": [
        {
          "output_type": "stream",
          "text": [
            "/usr/local/lib/python3.6/dist-packages/ipykernel_launcher.py:14: SettingWithCopyWarning: \n",
            "A value is trying to be set on a copy of a slice from a DataFrame\n",
            "\n",
            "See the caveats in the documentation: https://pandas.pydata.org/pandas-docs/stable/user_guide/indexing.html#returning-a-view-versus-a-copy\n",
            "  \n"
          ],
          "name": "stderr"
        }
      ]
    },
    {
      "cell_type": "code",
      "metadata": {
        "id": "bx0o36meigMp",
        "colab_type": "code",
        "outputId": "209c2f0e-c5c5-4003-ed11-d57eecaa7118",
        "colab": {
          "base_uri": "https://localhost:8080/",
          "height": 255
        }
      },
      "source": [
        "#Droping skillset column\n",
        "final.drop(columns=[\"skillset\"], inplace=True)\n",
        "final.head()"
      ],
      "execution_count": 197,
      "outputs": [
        {
          "output_type": "execute_result",
          "data": {
            "text/html": [
              "<div>\n",
              "<style scoped>\n",
              "    .dataframe tbody tr th:only-of-type {\n",
              "        vertical-align: middle;\n",
              "    }\n",
              "\n",
              "    .dataframe tbody tr th {\n",
              "        vertical-align: top;\n",
              "    }\n",
              "\n",
              "    .dataframe thead th {\n",
              "        text-align: right;\n",
              "    }\n",
              "</style>\n",
              "<table border=\"1\" class=\"dataframe\">\n",
              "  <thead>\n",
              "    <tr style=\"text-align: right;\">\n",
              "      <th></th>\n",
              "      <th>HTML</th>\n",
              "      <th>CSS</th>\n",
              "      <th>Bootstrap</th>\n",
              "      <th>AJAX</th>\n",
              "      <th>JavaScript</th>\n",
              "      <th>PHP</th>\n",
              "      <th>MySQL SQL</th>\n",
              "      <th>REST API</th>\n",
              "      <th>AWS Amazon Web Server (AWS) Amazon Web Services (AWS)</th>\n",
              "      <th>GCP Google Cloud Computing Google Cloud Platform</th>\n",
              "      <th>Git GitHub</th>\n",
              "      <th>Python</th>\n",
              "      <th>Linux</th>\n",
              "      <th>JSON</th>\n",
              "      <th>MongoDB</th>\n",
              "      <th>Express.js</th>\n",
              "      <th>React.js REACTJS</th>\n",
              "      <th>Node.js</th>\n",
              "      <th>Redux</th>\n",
              "      <th>Machine Learning</th>\n",
              "      <th>Deep Learning</th>\n",
              "      <th>Flask</th>\n",
              "      <th>Heroku</th>\n",
              "    </tr>\n",
              "  </thead>\n",
              "  <tbody>\n",
              "    <tr>\n",
              "      <th>0</th>\n",
              "      <td>0.0</td>\n",
              "      <td>0.0</td>\n",
              "      <td>0.0</td>\n",
              "      <td>0.0</td>\n",
              "      <td>0.0</td>\n",
              "      <td>0.0</td>\n",
              "      <td>0.0</td>\n",
              "      <td>0.0</td>\n",
              "      <td>0.0</td>\n",
              "      <td>0.0</td>\n",
              "      <td>0.0</td>\n",
              "      <td>1.0</td>\n",
              "      <td>0.0</td>\n",
              "      <td>0.0</td>\n",
              "      <td>0.0</td>\n",
              "      <td>0.0</td>\n",
              "      <td>0.0</td>\n",
              "      <td>0.0</td>\n",
              "      <td>0.0</td>\n",
              "      <td>1.0</td>\n",
              "      <td>0.0</td>\n",
              "      <td>0.0</td>\n",
              "      <td>0.0</td>\n",
              "    </tr>\n",
              "    <tr>\n",
              "      <th>1</th>\n",
              "      <td>0.0</td>\n",
              "      <td>0.0</td>\n",
              "      <td>0.0</td>\n",
              "      <td>0.0</td>\n",
              "      <td>0.0</td>\n",
              "      <td>0.0</td>\n",
              "      <td>0.0</td>\n",
              "      <td>0.0</td>\n",
              "      <td>0.0</td>\n",
              "      <td>0.0</td>\n",
              "      <td>0.0</td>\n",
              "      <td>1.0</td>\n",
              "      <td>0.0</td>\n",
              "      <td>0.0</td>\n",
              "      <td>0.0</td>\n",
              "      <td>0.0</td>\n",
              "      <td>0.0</td>\n",
              "      <td>0.0</td>\n",
              "      <td>0.0</td>\n",
              "      <td>1.0</td>\n",
              "      <td>0.0</td>\n",
              "      <td>0.0</td>\n",
              "      <td>0.0</td>\n",
              "    </tr>\n",
              "    <tr>\n",
              "      <th>2</th>\n",
              "      <td>0.0</td>\n",
              "      <td>0.0</td>\n",
              "      <td>0.0</td>\n",
              "      <td>0.0</td>\n",
              "      <td>0.0</td>\n",
              "      <td>0.0</td>\n",
              "      <td>0.0</td>\n",
              "      <td>0.0</td>\n",
              "      <td>0.0</td>\n",
              "      <td>0.0</td>\n",
              "      <td>0.0</td>\n",
              "      <td>1.0</td>\n",
              "      <td>0.0</td>\n",
              "      <td>0.0</td>\n",
              "      <td>0.0</td>\n",
              "      <td>0.0</td>\n",
              "      <td>0.0</td>\n",
              "      <td>0.0</td>\n",
              "      <td>0.0</td>\n",
              "      <td>1.0</td>\n",
              "      <td>0.0</td>\n",
              "      <td>0.0</td>\n",
              "      <td>0.0</td>\n",
              "    </tr>\n",
              "    <tr>\n",
              "      <th>3</th>\n",
              "      <td>0.0</td>\n",
              "      <td>0.0</td>\n",
              "      <td>0.0</td>\n",
              "      <td>0.0</td>\n",
              "      <td>0.0</td>\n",
              "      <td>0.0</td>\n",
              "      <td>1.0</td>\n",
              "      <td>0.0</td>\n",
              "      <td>0.0</td>\n",
              "      <td>0.0</td>\n",
              "      <td>1.0</td>\n",
              "      <td>1.0</td>\n",
              "      <td>0.0</td>\n",
              "      <td>0.0</td>\n",
              "      <td>0.0</td>\n",
              "      <td>0.0</td>\n",
              "      <td>0.0</td>\n",
              "      <td>0.0</td>\n",
              "      <td>0.0</td>\n",
              "      <td>1.0</td>\n",
              "      <td>1.0</td>\n",
              "      <td>0.0</td>\n",
              "      <td>0.0</td>\n",
              "    </tr>\n",
              "    <tr>\n",
              "      <th>4</th>\n",
              "      <td>0.0</td>\n",
              "      <td>0.0</td>\n",
              "      <td>0.0</td>\n",
              "      <td>0.0</td>\n",
              "      <td>0.0</td>\n",
              "      <td>1.0</td>\n",
              "      <td>1.0</td>\n",
              "      <td>0.0</td>\n",
              "      <td>1.0</td>\n",
              "      <td>0.0</td>\n",
              "      <td>0.0</td>\n",
              "      <td>1.0</td>\n",
              "      <td>0.0</td>\n",
              "      <td>0.0</td>\n",
              "      <td>0.0</td>\n",
              "      <td>0.0</td>\n",
              "      <td>0.0</td>\n",
              "      <td>0.0</td>\n",
              "      <td>0.0</td>\n",
              "      <td>1.0</td>\n",
              "      <td>1.0</td>\n",
              "      <td>0.0</td>\n",
              "      <td>0.0</td>\n",
              "    </tr>\n",
              "  </tbody>\n",
              "</table>\n",
              "</div>"
            ],
            "text/plain": [
              "    HTML    CSS    Bootstrap   ...   Deep Learning    Flask    Heroku \n",
              "0     0.0    0.0          0.0  ...              0.0      0.0       0.0\n",
              "1     0.0    0.0          0.0  ...              0.0      0.0       0.0\n",
              "2     0.0    0.0          0.0  ...              0.0      0.0       0.0\n",
              "3     0.0    0.0          0.0  ...              1.0      0.0       0.0\n",
              "4     0.0    0.0          0.0  ...              1.0      0.0       0.0\n",
              "\n",
              "[5 rows x 23 columns]"
            ]
          },
          "metadata": {
            "tags": []
          },
          "execution_count": 197
        }
      ]
    },
    {
      "cell_type": "code",
      "metadata": {
        "id": "Hj_cn865esKq",
        "colab_type": "code",
        "outputId": "8572282d-3e25-450e-e7de-2da463a07d3a",
        "colab": {
          "base_uri": "https://localhost:8080/",
          "height": 1000
        }
      },
      "source": [
        "# Counts of each skill required for selection\n",
        "for col in modified_columns:\n",
        "  print(final[col].value_counts())\n"
      ],
      "execution_count": 198,
      "outputs": [
        {
          "output_type": "stream",
          "text": [
            "0.0    1432\n",
            "1.0     698\n",
            "Name:  HTML , dtype: int64\n",
            "0.0    1612\n",
            "1.0     518\n",
            "Name:  CSS , dtype: int64\n",
            "0.0    1972\n",
            "1.0     158\n",
            "Name:  Bootstrap , dtype: int64\n",
            "0.0    2105\n",
            "1.0      25\n",
            "Name:  AJAX , dtype: int64\n",
            "0.0    1233\n",
            "1.0     897\n",
            "Name:  JavaScript , dtype: int64\n",
            "0.0    1902\n",
            "1.0     228\n",
            "Name:  PHP , dtype: int64\n",
            "0.0    1168\n",
            "1.0     962\n",
            "Name:  MySQL SQL , dtype: int64\n",
            "0.0    2095\n",
            "1.0      35\n",
            "Name:  REST API , dtype: int64\n",
            "0.0    2072\n",
            "1.0      58\n",
            "Name:  AWS Amazon Web Server (AWS) Amazon Web Services (AWS) , dtype: int64\n",
            "0.0    2083\n",
            "1.0      47\n",
            "Name:  GCP Google Cloud Computing Google Cloud Platform , dtype: int64\n",
            "0.0    2020\n",
            "1.0     110\n",
            "Name:  Git GitHub , dtype: int64\n",
            "1.0    1860\n",
            "0.0     270\n",
            "Name:  Python , dtype: int64\n",
            "0.0    2002\n",
            "1.0     128\n",
            "Name:  Linux , dtype: int64\n",
            "0.0    2110\n",
            "1.0      20\n",
            "Name:  JSON , dtype: int64\n",
            "0.0    1985\n",
            "1.0     145\n",
            "Name:  MongoDB , dtype: int64\n",
            "0.0    2107\n",
            "1.0      23\n",
            "Name:  Express.js , dtype: int64\n",
            "0.0    2040\n",
            "1.0      90\n",
            "Name:  React.js REACTJS , dtype: int64\n",
            "0.0    2000\n",
            "1.0     130\n",
            "Name:  Node.js , dtype: int64\n",
            "0.0    2121\n",
            "1.0       9\n",
            "Name:  Redux , dtype: int64\n",
            "1.0    1449\n",
            "0.0     681\n",
            "Name:  Machine Learning , dtype: int64\n",
            "0.0    1496\n",
            "1.0     634\n",
            "Name:  Deep Learning , dtype: int64\n",
            "0.0    2060\n",
            "1.0      70\n",
            "Name:  Flask , dtype: int64\n",
            "0.0    2119\n",
            "1.0      11\n",
            "Name:  Heroku , dtype: int64\n"
          ],
          "name": "stdout"
        }
      ]
    },
    {
      "cell_type": "code",
      "metadata": {
        "id": "WyhFzdzHutyd",
        "colab_type": "code",
        "colab": {}
      },
      "source": [
        ""
      ],
      "execution_count": 0,
      "outputs": []
    },
    {
      "cell_type": "markdown",
      "metadata": {
        "id": "CBYvFJA5dYdu",
        "colab_type": "text"
      },
      "source": [
        "## CREATING NEW CLEAN DATA"
      ]
    },
    {
      "cell_type": "markdown",
      "metadata": {
        "id": "ca3L-_wihbSO",
        "colab_type": "text"
      },
      "source": [
        "## Adding labels"
      ]
    },
    {
      "cell_type": "code",
      "metadata": {
        "id": "I_YkVI_efXEb",
        "colab_type": "code",
        "colab": {}
      },
      "source": [
        "# 0 means not shortlisted and 1 means shortlisted\n",
        "final[\"WEB\"] = 0\n",
        "final[\"FULLSTACK\"] = 0\n",
        "final[\"ML\"] = 0"
      ],
      "execution_count": 0,
      "outputs": []
    },
    {
      "cell_type": "markdown",
      "metadata": {
        "id": "VXKl5tkqgWtv",
        "colab_type": "text"
      },
      "source": [
        "##Required Skills [Criteria]:\n",
        "###Web Developer:\n",
        "- HTML, CSS, Bootstrap, AJAX, JavaScript, PHP, MySQL, REST API, AWS/GCP, Git/GitHub, Python, Linux, JSON, Authentication/Authorization (JWT)\n",
        "\n",
        "###FullStack Developer:\n",
        "- HTML, CSS, MongoDB, Express, React.js, Node.js, ES6, Redux, JavaScript, AWS/GCP, Python, Linux, JSON, Authentication/Authorization (JWT)\n",
        "\n",
        "###ML Developer:\n",
        "- Python, TensorFlow, PyTorch, NumPy, PyPI, Sci-kit learn, Statistical Modelling, Machine Learning, Deep Learning, SQL, JSON, AWS/GCP/Heroku, Flask"
      ]
    },
    {
      "cell_type": "markdown",
      "metadata": {
        "id": "e7aRhQcTRJ8H",
        "colab_type": "text"
      },
      "source": [
        "## There are some skills like  **AWS/GCP/Heroku** this means if you have even one of these skills it's fine.\n",
        "## And others are must_have skills"
      ]
    },
    {
      "cell_type": "code",
      "metadata": {
        "id": "mCX4I_QSyXFi",
        "colab_type": "code",
        "colab": {}
      },
      "source": [
        "\n",
        "#Skills required for ML , FULLSTACK AND WEB DEVELOPER respectively\n",
        "ML_requirements = [' Python ', ' Machine Learning ', ' Deep Learning ', ' MySQL SQL ', ' Flask ', ' JSON ', ' AWS Amazon Web Server (AWS) Amazon Web Services (AWS) ',\n",
        "                   ' GCP Google Cloud Computing Google Cloud Platform ',' Heroku ']\n",
        "FULLSTACK_requirements = [' HTML ', ' CSS ' , ' MongoDB ', ' Express.js ', ' React.js REACTJS ', ' Python ', ' Linux ', ' JSON ', ' Node.js ', ' Redux ',' JavaScript ', ' AWS Amazon Web Server (AWS) Amazon Web Services (AWS) ',\n",
        "                          ' GCP Google Cloud Computing Google Cloud Platform ']\n",
        "WEB_requirements = [' HTML ', ' CSS ', ' Bootstrap ' , ' AJAX ', ' JavaScript ', ' PHP ' ,' Git GitHub ', ' Python ', ' Linux ', ' JSON '  , ' MySQL SQL ',  ' REST API ', ' AWS Amazon Web Server (AWS) Amazon Web Services (AWS) ',\n",
        "                          ' GCP Google Cloud Computing Google Cloud Platform ']"
      ],
      "execution_count": 0,
      "outputs": []
    },
    {
      "cell_type": "code",
      "metadata": {
        "id": "K9UZdm0-guvR",
        "colab_type": "code",
        "outputId": "cfd14f63-cbf4-4723-80c1-4f1d400c3d08",
        "colab": {
          "base_uri": "https://localhost:8080/",
          "height": 102
        }
      },
      "source": [
        "# must have skills\n",
        "ml_must = ML_requirements[:-3]\n",
        "web_must = WEB_requirements[:-2]\n",
        "fs_must = FULLSTACK_requirements[:-2]\n",
        "print(\"Must have skills for ML: \",len(ml_must))\n",
        "print(\"\\nMust have skills for WEB: \",len(web_must))\n",
        "print(\"\\nMust have skills for FULLSTACK: \",len(fs_must))"
      ],
      "execution_count": 201,
      "outputs": [
        {
          "output_type": "stream",
          "text": [
            "Must have skills for ML:  6\n",
            "\n",
            "Must have skills for WEB:  12\n",
            "\n",
            "Must have skills for FULLSTACK:  11\n"
          ],
          "name": "stdout"
        }
      ]
    },
    {
      "cell_type": "code",
      "metadata": {
        "id": "csYhuwv_1Vul",
        "colab_type": "code",
        "outputId": "d641b4f6-6ddc-4074-d653-6b815897f91d",
        "colab": {
          "base_uri": "https://localhost:8080/",
          "height": 68
        }
      },
      "source": [
        "#Total no. of skills required in each domain.\n",
        "print(\"ML req :\",len(ML_requirements) , \"\\nWEB req :\",len(WEB_requirements), \"\\nFULLSTACK req :\",len(FULLSTACK_requirements))\n"
      ],
      "execution_count": 202,
      "outputs": [
        {
          "output_type": "stream",
          "text": [
            "ML req : 9 \n",
            "WEB req : 14 \n",
            "FULLSTACK req : 13\n"
          ],
          "name": "stdout"
        }
      ]
    },
    {
      "cell_type": "markdown",
      "metadata": {
        "id": "KLbD58PTDafh",
        "colab_type": "text"
      },
      "source": [
        "- Total ML req skills = 7       : (6 must have and 1 out of remaining 3)\n",
        "- Total WEB req skills = 13       : (12 must have and 1 out of reamining 2)\n",
        "- Total FULLSTACK req skills = 12 : (11 must have and 1 out of reamining 2)"
      ]
    },
    {
      "cell_type": "markdown",
      "metadata": {
        "id": "pHePOxFMWQki",
        "colab_type": "text"
      },
      "source": [
        "# Important Note:"
      ]
    },
    {
      "cell_type": "markdown",
      "metadata": {
        "id": "hPv7CQL0RnGj",
        "colab_type": "text"
      },
      "source": [
        "## The threshold list is the main thing on how to train the models.\n",
        "  - it is the deciding factors whether you want to make your model predict no if you have only one sckill missing or you require only 70-80% of the required skills to get selected.\n",
        "\n",
        "\n",
        " - I have set it close to total no. of skills .\n",
        " - Also the there isnt one candidate in the training data that has all skills required for WEB and FULLSTACK DEVELOPER, so i have to keep it a little low which affects my prediction a little bit."
      ]
    },
    {
      "cell_type": "code",
      "metadata": {
        "id": "TVBFguzBnLgM",
        "colab_type": "code",
        "outputId": "6d832d6b-9589-460c-f50a-d032896dc14f",
        "colab": {
          "base_uri": "https://localhost:8080/",
          "height": 221
        }
      },
      "source": [
        "\n",
        "# i have selected the threshold to be  \n",
        "#     5/7 skills in ML\n",
        "#     8/13 skills in WEB\n",
        "#     8/12 skills in FULLSTACK\n",
        "threshold = [int(5),int(8),int(8)]\n",
        "\n",
        "\n",
        "for ix in range(len(final)):\n",
        "\n",
        "    # Threshold value for getting shortlisted (adding labels)\n",
        "    ml_threshold = int(0)\n",
        "    web_threshold = int(0)\n",
        "    fs_threshold = int(0)\n",
        "    \n",
        "    # ML\n",
        "    # must have skills \n",
        "    for must_haves in ml_must:\n",
        "      if(final[must_haves][ix]==1):\n",
        "        ml_threshold = ml_threshold + 1\n",
        "    # Any one of these three\n",
        "    if(final[\" GCP Google Cloud Computing Google Cloud Platform \"][ix] == 1 or final[\" AWS Amazon Web Server (AWS) Amazon Web Services (AWS) \"][ix] == 1 or final[\" Heroku \" ][ix] == 1):\n",
        "        ml_threshold = ml_threshold + 1\n",
        "\n",
        "    # WEB\n",
        "    # must have skills \n",
        "    for must_haves in web_must:\n",
        "      if(final[must_haves][ix]==1):\n",
        "        web_threshold = web_threshold + 1\n",
        "    # Any one of these three\n",
        "    if(final[\" GCP Google Cloud Computing Google Cloud Platform \"][ix] == 1 or final[\" AWS Amazon Web Server (AWS) Amazon Web Services (AWS) \"][ix] == 1 ):\n",
        "        web_threshold = web_threshold + 1\n",
        "    \n",
        "    # FULLSTACK\n",
        "    # must have skills \n",
        "    for must_haves in fs_must:\n",
        "      if(final[must_haves][ix]==1):\n",
        "        fs_threshold = fs_threshold + 1\n",
        "    # Any one of these three\n",
        "    if(final[\" GCP Google Cloud Computing Google Cloud Platform \"][ix] == 1 or final[\" AWS Amazon Web Server (AWS) Amazon Web Services (AWS) \"][ix] == 1 ):\n",
        "        fs_threshold = fs_threshold + 1 \n",
        "      \n",
        "\n",
        "\n",
        "    #As based on the dataset and requirements provided , no one has all the qualities\n",
        "    #So we should reduce the requirements\n",
        "\n",
        "    # Applicant is shortlisted if\n",
        "\n",
        "\n",
        "    # For ML if applicant has 5 out of 7 skills\n",
        "    if(ml_threshold >= threshold[0]):\n",
        "      final[\"ML\"][ix] = 1\n",
        "    \n",
        "    # For WEB if applicant has 8 out of 13 skills\n",
        "    if(web_threshold >= threshold[1]):\n",
        "      final[\"WEB\"][ix] = 1\n",
        "\n",
        "    # For FULLSTACK if applicant has 8 out of 12 skills  \n",
        "    if(fs_threshold >= threshold[2]):\n",
        "      final[\"FULLSTACK\"][ix] = 1\n",
        "    \n",
        "    \n",
        "\n",
        "    \n"
      ],
      "execution_count": 203,
      "outputs": [
        {
          "output_type": "stream",
          "text": [
            "/usr/local/lib/python3.6/dist-packages/ipykernel_launcher.py:53: SettingWithCopyWarning: \n",
            "A value is trying to be set on a copy of a slice from a DataFrame\n",
            "\n",
            "See the caveats in the documentation: https://pandas.pydata.org/pandas-docs/stable/user_guide/indexing.html#returning-a-view-versus-a-copy\n",
            "/usr/local/lib/python3.6/dist-packages/ipykernel_launcher.py:61: SettingWithCopyWarning: \n",
            "A value is trying to be set on a copy of a slice from a DataFrame\n",
            "\n",
            "See the caveats in the documentation: https://pandas.pydata.org/pandas-docs/stable/user_guide/indexing.html#returning-a-view-versus-a-copy\n",
            "/usr/local/lib/python3.6/dist-packages/ipykernel_launcher.py:57: SettingWithCopyWarning: \n",
            "A value is trying to be set on a copy of a slice from a DataFrame\n",
            "\n",
            "See the caveats in the documentation: https://pandas.pydata.org/pandas-docs/stable/user_guide/indexing.html#returning-a-view-versus-a-copy\n"
          ],
          "name": "stderr"
        }
      ]
    },
    {
      "cell_type": "code",
      "metadata": {
        "id": "1WBBRCHFmzgW",
        "colab_type": "code",
        "outputId": "8f4aec8b-a4d4-4a8e-fbe5-2207e0ffb809",
        "colab": {
          "base_uri": "https://localhost:8080/",
          "height": 289
        }
      },
      "source": [
        "# 1 means shortlisted and 0 means not shortlisted\n",
        "print(\"Machine Learning\\n\",final[\"ML\"].value_counts())\n",
        "print(\"\\n\\nWeb Developer\\n\",final[\"WEB\"].value_counts())\n",
        "print(\"\\n\\nFullStack Developer\\n\",final[\"FULLSTACK\"].value_counts())"
      ],
      "execution_count": 204,
      "outputs": [
        {
          "output_type": "stream",
          "text": [
            "Machine Learning\n",
            " 0    2086\n",
            "1      44\n",
            "Name: ML, dtype: int64\n",
            "\n",
            "\n",
            "Web Developer\n",
            " 0    2097\n",
            "1      33\n",
            "Name: WEB, dtype: int64\n",
            "\n",
            "\n",
            "FullStack Developer\n",
            " 0    2117\n",
            "1      13\n",
            "Name: FULLSTACK, dtype: int64\n"
          ],
          "name": "stdout"
        }
      ]
    },
    {
      "cell_type": "code",
      "metadata": {
        "id": "AzvRV06JVXP9",
        "colab_type": "code",
        "outputId": "b5642b9c-6ce7-451f-bf89-f183b9fc85dc",
        "colab": {
          "base_uri": "https://localhost:8080/",
          "height": 897
        }
      },
      "source": [
        "# Visualizing counts\n",
        "print(\"ML claases in training set:\\n\")\n",
        "count_classes = pd.value_counts(final['ML'], sort = True)\n",
        "count_classes.plot(kind = 'bar', rot=0)\n",
        "plt.show()\n",
        "\n",
        "\n",
        "\n",
        "plt.figure()\n",
        "print(\"\\n WEB claases in training set:\\n\")\n",
        "count_classes = pd.value_counts(final['WEB'], sort = True)\n",
        "count_classes.plot(kind = 'bar', rot=0)\n",
        "plt.show()\n",
        "\n",
        "\n",
        "plt.figure()\n",
        "print(\"\\n FULLSTACK claases in training set:\\n\")\n",
        "count_classes = pd.value_counts(final['FULLSTACK'], sort = True)\n",
        "count_classes.plot(kind = 'bar', rot=0)\n",
        "plt.show()\n",
        "\n"
      ],
      "execution_count": 205,
      "outputs": [
        {
          "output_type": "stream",
          "text": [
            "ML claases in training set:\n",
            "\n"
          ],
          "name": "stdout"
        },
        {
          "output_type": "display_data",
          "data": {
            "image/png": "[encoded data removed]",
            "text/plain": [
              "<Figure size 432x288 with 1 Axes>"
            ]
          },
          "metadata": {
            "tags": [],
            "needs_background": "light"
          }
        },
        {
          "output_type": "stream",
          "text": [
            "\n",
            " WEB claases in training set:\n",
            "\n"
          ],
          "name": "stdout"
        },
        {
          "output_type": "display_data",
          "data": {
            "image/png": "[encoded data removed]",
            "text/plain": [
              "<Figure size 432x288 with 1 Axes>"
            ]
          },
          "metadata": {
            "tags": [],
            "needs_background": "light"
          }
        },
        {
          "output_type": "stream",
          "text": [
            "\n",
            " FULLSTACK claases in training set:\n",
            "\n"
          ],
          "name": "stdout"
        },
        {
          "output_type": "display_data",
          "data": {
            "image/png": "[encoded data removed]",
            "text/plain": [
              "<Figure size 432x288 with 1 Axes>"
            ]
          },
          "metadata": {
            "tags": [],
            "needs_background": "light"
          }
        }
      ]
    },
    {
      "cell_type": "markdown",
      "metadata": {
        "id": "Tt05ThPWWHp6",
        "colab_type": "text"
      },
      "source": [
        "## Its an imbalanced dataset , we should do over-sampling."
      ]
    },
    {
      "cell_type": "markdown",
      "metadata": {
        "id": "6OCwxGNXWDPs",
        "colab_type": "text"
      },
      "source": [
        "# Dataset for training and testing is prepared"
      ]
    },
    {
      "cell_type": "code",
      "metadata": {
        "id": "pEWJmMTm3U06",
        "colab_type": "code",
        "outputId": "990766d1-6b47-47a3-c905-9a1cbf3505fd",
        "colab": {
          "base_uri": "https://localhost:8080/",
          "height": 360
        }
      },
      "source": [
        "dataset = final.copy()\n",
        "dataset.head()"
      ],
      "execution_count": 206,
      "outputs": [
        {
          "output_type": "execute_result",
          "data": {
            "text/html": [
              "<div>\n",
              "<style scoped>\n",
              "    .dataframe tbody tr th:only-of-type {\n",
              "        vertical-align: middle;\n",
              "    }\n",
              "\n",
              "    .dataframe tbody tr th {\n",
              "        vertical-align: top;\n",
              "    }\n",
              "\n",
              "    .dataframe thead th {\n",
              "        text-align: right;\n",
              "    }\n",
              "</style>\n",
              "<table border=\"1\" class=\"dataframe\">\n",
              "  <thead>\n",
              "    <tr style=\"text-align: right;\">\n",
              "      <th></th>\n",
              "      <th>HTML</th>\n",
              "      <th>CSS</th>\n",
              "      <th>Bootstrap</th>\n",
              "      <th>AJAX</th>\n",
              "      <th>JavaScript</th>\n",
              "      <th>PHP</th>\n",
              "      <th>MySQL SQL</th>\n",
              "      <th>REST API</th>\n",
              "      <th>AWS Amazon Web Server (AWS) Amazon Web Services (AWS)</th>\n",
              "      <th>GCP Google Cloud Computing Google Cloud Platform</th>\n",
              "      <th>Git GitHub</th>\n",
              "      <th>Python</th>\n",
              "      <th>Linux</th>\n",
              "      <th>JSON</th>\n",
              "      <th>MongoDB</th>\n",
              "      <th>Express.js</th>\n",
              "      <th>React.js REACTJS</th>\n",
              "      <th>Node.js</th>\n",
              "      <th>Redux</th>\n",
              "      <th>Machine Learning</th>\n",
              "      <th>Deep Learning</th>\n",
              "      <th>Flask</th>\n",
              "      <th>Heroku</th>\n",
              "      <th>WEB</th>\n",
              "      <th>FULLSTACK</th>\n",
              "      <th>ML</th>\n",
              "    </tr>\n",
              "  </thead>\n",
              "  <tbody>\n",
              "    <tr>\n",
              "      <th>0</th>\n",
              "      <td>0.0</td>\n",
              "      <td>0.0</td>\n",
              "      <td>0.0</td>\n",
              "      <td>0.0</td>\n",
              "      <td>0.0</td>\n",
              "      <td>0.0</td>\n",
              "      <td>0.0</td>\n",
              "      <td>0.0</td>\n",
              "      <td>0.0</td>\n",
              "      <td>0.0</td>\n",
              "      <td>0.0</td>\n",
              "      <td>1.0</td>\n",
              "      <td>0.0</td>\n",
              "      <td>0.0</td>\n",
              "      <td>0.0</td>\n",
              "      <td>0.0</td>\n",
              "      <td>0.0</td>\n",
              "      <td>0.0</td>\n",
              "      <td>0.0</td>\n",
              "      <td>1.0</td>\n",
              "      <td>0.0</td>\n",
              "      <td>0.0</td>\n",
              "      <td>0.0</td>\n",
              "      <td>0</td>\n",
              "      <td>0</td>\n",
              "      <td>0</td>\n",
              "    </tr>\n",
              "    <tr>\n",
              "      <th>1</th>\n",
              "      <td>0.0</td>\n",
              "      <td>0.0</td>\n",
              "      <td>0.0</td>\n",
              "      <td>0.0</td>\n",
              "      <td>0.0</td>\n",
              "      <td>0.0</td>\n",
              "      <td>0.0</td>\n",
              "      <td>0.0</td>\n",
              "      <td>0.0</td>\n",
              "      <td>0.0</td>\n",
              "      <td>0.0</td>\n",
              "      <td>1.0</td>\n",
              "      <td>0.0</td>\n",
              "      <td>0.0</td>\n",
              "      <td>0.0</td>\n",
              "      <td>0.0</td>\n",
              "      <td>0.0</td>\n",
              "      <td>0.0</td>\n",
              "      <td>0.0</td>\n",
              "      <td>1.0</td>\n",
              "      <td>0.0</td>\n",
              "      <td>0.0</td>\n",
              "      <td>0.0</td>\n",
              "      <td>0</td>\n",
              "      <td>0</td>\n",
              "      <td>0</td>\n",
              "    </tr>\n",
              "    <tr>\n",
              "      <th>2</th>\n",
              "      <td>0.0</td>\n",
              "      <td>0.0</td>\n",
              "      <td>0.0</td>\n",
              "      <td>0.0</td>\n",
              "      <td>0.0</td>\n",
              "      <td>0.0</td>\n",
              "      <td>0.0</td>\n",
              "      <td>0.0</td>\n",
              "      <td>0.0</td>\n",
              "      <td>0.0</td>\n",
              "      <td>0.0</td>\n",
              "      <td>1.0</td>\n",
              "      <td>0.0</td>\n",
              "      <td>0.0</td>\n",
              "      <td>0.0</td>\n",
              "      <td>0.0</td>\n",
              "      <td>0.0</td>\n",
              "      <td>0.0</td>\n",
              "      <td>0.0</td>\n",
              "      <td>1.0</td>\n",
              "      <td>0.0</td>\n",
              "      <td>0.0</td>\n",
              "      <td>0.0</td>\n",
              "      <td>0</td>\n",
              "      <td>0</td>\n",
              "      <td>0</td>\n",
              "    </tr>\n",
              "    <tr>\n",
              "      <th>3</th>\n",
              "      <td>0.0</td>\n",
              "      <td>0.0</td>\n",
              "      <td>0.0</td>\n",
              "      <td>0.0</td>\n",
              "      <td>0.0</td>\n",
              "      <td>0.0</td>\n",
              "      <td>1.0</td>\n",
              "      <td>0.0</td>\n",
              "      <td>0.0</td>\n",
              "      <td>0.0</td>\n",
              "      <td>1.0</td>\n",
              "      <td>1.0</td>\n",
              "      <td>0.0</td>\n",
              "      <td>0.0</td>\n",
              "      <td>0.0</td>\n",
              "      <td>0.0</td>\n",
              "      <td>0.0</td>\n",
              "      <td>0.0</td>\n",
              "      <td>0.0</td>\n",
              "      <td>1.0</td>\n",
              "      <td>1.0</td>\n",
              "      <td>0.0</td>\n",
              "      <td>0.0</td>\n",
              "      <td>0</td>\n",
              "      <td>0</td>\n",
              "      <td>0</td>\n",
              "    </tr>\n",
              "    <tr>\n",
              "      <th>4</th>\n",
              "      <td>0.0</td>\n",
              "      <td>0.0</td>\n",
              "      <td>0.0</td>\n",
              "      <td>0.0</td>\n",
              "      <td>0.0</td>\n",
              "      <td>1.0</td>\n",
              "      <td>1.0</td>\n",
              "      <td>0.0</td>\n",
              "      <td>1.0</td>\n",
              "      <td>0.0</td>\n",
              "      <td>0.0</td>\n",
              "      <td>1.0</td>\n",
              "      <td>0.0</td>\n",
              "      <td>0.0</td>\n",
              "      <td>0.0</td>\n",
              "      <td>0.0</td>\n",
              "      <td>0.0</td>\n",
              "      <td>0.0</td>\n",
              "      <td>0.0</td>\n",
              "      <td>1.0</td>\n",
              "      <td>1.0</td>\n",
              "      <td>0.0</td>\n",
              "      <td>0.0</td>\n",
              "      <td>0</td>\n",
              "      <td>0</td>\n",
              "      <td>1</td>\n",
              "    </tr>\n",
              "  </tbody>\n",
              "</table>\n",
              "</div>"
            ],
            "text/plain": [
              "    HTML    CSS    Bootstrap    AJAX   ...   Heroku   WEB  FULLSTACK  ML\n",
              "0     0.0    0.0          0.0     0.0  ...       0.0    0          0   0\n",
              "1     0.0    0.0          0.0     0.0  ...       0.0    0          0   0\n",
              "2     0.0    0.0          0.0     0.0  ...       0.0    0          0   0\n",
              "3     0.0    0.0          0.0     0.0  ...       0.0    0          0   0\n",
              "4     0.0    0.0          0.0     0.0  ...       0.0    0          0   1\n",
              "\n",
              "[5 rows x 26 columns]"
            ]
          },
          "metadata": {
            "tags": []
          },
          "execution_count": 206
        }
      ]
    },
    {
      "cell_type": "markdown",
      "metadata": {
        "id": "ohSbk92suK5Q",
        "colab_type": "text"
      },
      "source": [
        "# Train Test Split\n"
      ]
    },
    {
      "cell_type": "code",
      "metadata": {
        "id": "j_jY8LGNWx27",
        "colab_type": "code",
        "colab": {}
      },
      "source": [
        "ml_train = pd.DataFrame(dataset,columns=ML_requirements)\n",
        "web_train = pd.DataFrame(dataset,columns=WEB_requirements)\n",
        "fullstack_train = pd.DataFrame(dataset,columns=FULLSTACK_requirements)\n",
        "ml_target = pd.DataFrame(dataset, columns=[\"ML\"])\n",
        "web_target = pd.DataFrame(dataset, columns=[\"WEB\"])\n",
        "fullstack_target = pd.DataFrame(dataset, columns=[\"FULLSTACK\"])"
      ],
      "execution_count": 0,
      "outputs": []
    },
    {
      "cell_type": "code",
      "metadata": {
        "id": "TFKwJ8kxWzeR",
        "colab_type": "code",
        "outputId": "c5d33a9d-e4cb-4e0a-cdb4-898715db93e1",
        "colab": {
          "base_uri": "https://localhost:8080/",
          "height": 34
        }
      },
      "source": [
        "print(ml_train.shape,ml_target.shape, fullstack_train.shape, fullstack_target.shape)"
      ],
      "execution_count": 208,
      "outputs": [
        {
          "output_type": "stream",
          "text": [
            "(2130, 9) (2130, 1) (2130, 13) (2130, 1)\n"
          ],
          "name": "stdout"
        }
      ]
    },
    {
      "cell_type": "markdown",
      "metadata": {
        "id": "V1svHiPjWmpI",
        "colab_type": "text"
      },
      "source": [
        "## OverSampling"
      ]
    },
    {
      "cell_type": "code",
      "metadata": {
        "id": "3LF2ZRFYWP9j",
        "colab_type": "code",
        "colab": {}
      },
      "source": [
        "from imblearn.over_sampling import RandomOverSampler\n",
        "os =  RandomOverSampler()"
      ],
      "execution_count": 0,
      "outputs": []
    },
    {
      "cell_type": "code",
      "metadata": {
        "id": "ZrKJ0UkIWhaT",
        "colab_type": "code",
        "outputId": "88d333c0-e378-449f-f789-2f78ba922946",
        "colab": {
          "base_uri": "https://localhost:8080/",
          "height": 241
        }
      },
      "source": [
        "ml_train, ml_target = os.fit_sample(ml_train, ml_target)\n",
        "web_train, web_target, = os.fit_sample(web_train, web_target)\n",
        "fullstack_train, fullstack_target = os.fit_sample(fullstack_train, fullstack_target)"
      ],
      "execution_count": 210,
      "outputs": [
        {
          "output_type": "stream",
          "text": [
            "/usr/local/lib/python3.6/dist-packages/sklearn/utils/validation.py:760: DataConversionWarning: A column-vector y was passed when a 1d array was expected. Please change the shape of y to (n_samples, ), for example using ravel().\n",
            "  y = column_or_1d(y, warn=True)\n",
            "/usr/local/lib/python3.6/dist-packages/sklearn/utils/deprecation.py:87: FutureWarning: Function safe_indexing is deprecated; safe_indexing is deprecated in version 0.22 and will be removed in version 0.24.\n",
            "  warnings.warn(msg, category=FutureWarning)\n",
            "/usr/local/lib/python3.6/dist-packages/sklearn/utils/validation.py:760: DataConversionWarning: A column-vector y was passed when a 1d array was expected. Please change the shape of y to (n_samples, ), for example using ravel().\n",
            "  y = column_or_1d(y, warn=True)\n",
            "/usr/local/lib/python3.6/dist-packages/sklearn/utils/deprecation.py:87: FutureWarning: Function safe_indexing is deprecated; safe_indexing is deprecated in version 0.22 and will be removed in version 0.24.\n",
            "  warnings.warn(msg, category=FutureWarning)\n",
            "/usr/local/lib/python3.6/dist-packages/sklearn/utils/validation.py:760: DataConversionWarning: A column-vector y was passed when a 1d array was expected. Please change the shape of y to (n_samples, ), for example using ravel().\n",
            "  y = column_or_1d(y, warn=True)\n",
            "/usr/local/lib/python3.6/dist-packages/sklearn/utils/deprecation.py:87: FutureWarning: Function safe_indexing is deprecated; safe_indexing is deprecated in version 0.22 and will be removed in version 0.24.\n",
            "  warnings.warn(msg, category=FutureWarning)\n"
          ],
          "name": "stderr"
        }
      ]
    },
    {
      "cell_type": "code",
      "metadata": {
        "id": "NgF-yaPOWbeF",
        "colab_type": "code",
        "outputId": "7470bad3-d42f-4fe5-b381-45120effebfd",
        "colab": {
          "base_uri": "https://localhost:8080/",
          "height": 68
        }
      },
      "source": [
        "from collections import Counter\n",
        "# print('Original dataset shape {}'.format(Counter(m)))\n",
        "print('Resampled dataset shape {}'.format(Counter(ml_target)))\n",
        "print('Resampled dataset shape {}'.format(Counter(web_target)))\n",
        "print('Resampled dataset shape {}'.format(Counter(fullstack_target)))"
      ],
      "execution_count": 211,
      "outputs": [
        {
          "output_type": "stream",
          "text": [
            "Resampled dataset shape Counter({0: 2086, 1: 2086})\n",
            "Resampled dataset shape Counter({0: 2097, 1: 2097})\n",
            "Resampled dataset shape Counter({0: 2117, 1: 2117})\n"
          ],
          "name": "stdout"
        }
      ]
    },
    {
      "cell_type": "code",
      "metadata": {
        "id": "pt1nM6xSWbcO",
        "colab_type": "code",
        "outputId": "2d9fb4fe-cba3-4ff3-919d-680508d57422",
        "colab": {
          "base_uri": "https://localhost:8080/",
          "height": 897
        }
      },
      "source": [
        "print(\"ML claases in training set:\\n\")\n",
        "count_classes = pd.value_counts(ml_target, sort = True)\n",
        "count_classes.plot(kind = 'bar', rot=0)\n",
        "plt.show()\n",
        "\n",
        "\n",
        "\n",
        "plt.figure()\n",
        "print(\"\\n WEB claases in training set:\\n\")\n",
        "count_classes = pd.value_counts(web_target, sort = True)\n",
        "count_classes.plot(kind = 'bar', rot=0)\n",
        "plt.show()\n",
        "\n",
        "\n",
        "plt.figure()\n",
        "print(\"\\n FULLSTACK claases in training set:\\n\")\n",
        "count_classes = pd.value_counts(fullstack_target, sort = True)\n",
        "count_classes.plot(kind = 'bar', rot=0)\n",
        "plt.show()\n",
        "\n"
      ],
      "execution_count": 212,
      "outputs": [
        {
          "output_type": "stream",
          "text": [
            "ML claases in training set:\n",
            "\n"
          ],
          "name": "stdout"
        },
        {
          "output_type": "display_data",
          "data": {
            "image/png": "[encoded data removed]",
            "text/plain": [
              "<Figure size 432x288 with 1 Axes>"
            ]
          },
          "metadata": {
            "tags": [],
            "needs_background": "light"
          }
        },
        {
          "output_type": "stream",
          "text": [
            "\n",
            " WEB claases in training set:\n",
            "\n"
          ],
          "name": "stdout"
        },
        {
          "output_type": "display_data",
          "data": {
            "image/png": "[encoded data removed]",
            "text/plain": [
              "<Figure size 432x288 with 1 Axes>"
            ]
          },
          "metadata": {
            "tags": [],
            "needs_background": "light"
          }
        },
        {
          "output_type": "stream",
          "text": [
            "\n",
            " FULLSTACK claases in training set:\n",
            "\n"
          ],
          "name": "stdout"
        },
        {
          "output_type": "display_data",
          "data": {
            "image/png": "[encoded data removed]",
            "text/plain": [
              "<Figure size 432x288 with 1 Axes>"
            ]
          },
          "metadata": {
            "tags": [],
            "needs_background": "light"
          }
        }
      ]
    },
    {
      "cell_type": "code",
      "metadata": {
        "id": "w6pB9U0qWbaK",
        "colab_type": "code",
        "colab": {}
      },
      "source": [
        ""
      ],
      "execution_count": 0,
      "outputs": []
    },
    {
      "cell_type": "code",
      "metadata": {
        "id": "wb5j-U5F3Ptn",
        "colab_type": "code",
        "colab": {}
      },
      "source": [
        "# Shuffling data\n",
        "\n",
        "from sklearn.utils import shuffle\n",
        "\n",
        "ml_train = shuffle(ml_train, random_state=42)\n",
        "ml_target = shuffle(ml_target, random_state=42)\n",
        "\n",
        "web_train = shuffle(web_train, random_state=42)\n",
        "web_target = shuffle(web_target, random_state=42)\n",
        "\n",
        "fullstack_train = shuffle(fullstack_train, random_state=42)\n",
        "fullstack_target = shuffle(fullstack_target, random_state=42)"
      ],
      "execution_count": 0,
      "outputs": []
    },
    {
      "cell_type": "code",
      "metadata": {
        "id": "zViaoRTrmmPl",
        "colab_type": "code",
        "colab": {}
      },
      "source": [
        ""
      ],
      "execution_count": 0,
      "outputs": []
    },
    {
      "cell_type": "markdown",
      "metadata": {
        "id": "AVaSUtNPWzXU",
        "colab_type": "text"
      },
      "source": [
        "## Helper Functions"
      ]
    },
    {
      "cell_type": "code",
      "metadata": {
        "id": "j1uMSqGr6oSa",
        "colab_type": "code",
        "colab": {}
      },
      "source": [
        "from sklearn.metrics import roc_curve\n",
        "\n",
        "def splitter(X,y,split=0.8):\n",
        "  X_train = X[:][:int( 0.8*len(X) )]\n",
        "  X_test = X[:][int( 0.8*len(X) ) :]\n",
        "  y_train = y[:][:int(0.8*len(X) ) ]\n",
        "  y_test = y[:][int(0.8*len(X)) :]\n",
        "  data = [X_train, y_train, X_test, y_test]\n",
        "  return data\n",
        "\n",
        "\n",
        "def plot_roc_curve(fpr, tpr, label=None):\n",
        "  plt.plot(fpr, tpr, linewidth=2, label=label)\n",
        "  plt.plot([0, 1], [0, 1], 'k--') # Dashed diagonal\n",
        "  [...] # Add axis labels and grid"
      ],
      "execution_count": 0,
      "outputs": []
    },
    {
      "cell_type": "markdown",
      "metadata": {
        "id": "QxAe2mFzZ3IV",
        "colab_type": "text"
      },
      "source": [
        "# Model Training"
      ]
    },
    {
      "cell_type": "code",
      "metadata": {
        "id": "mJJ0N5ZDvpuB",
        "colab_type": "code",
        "colab": {}
      },
      "source": [
        "# Opting for logistic Regression Classifier\n",
        "\n",
        "lg_ml_clf = LogisticRegression(C=100, penalty='l2', class_weight=\"balanced\", solver='lbfgs')\n",
        "lg_web_clf = LogisticRegression(C=100, penalty='l2', class_weight='balanced', solver='newton-cg')\n",
        "lg_fs_clf = LogisticRegression(C=100, penalty='l2', class_weight='balanced', solver='newton-cg')"
      ],
      "execution_count": 0,
      "outputs": []
    },
    {
      "cell_type": "code",
      "metadata": {
        "id": "bhARvfkNs5qz",
        "colab_type": "code",
        "colab": {}
      },
      "source": [
        "data_list = [ (ml_train, ml_target),    (web_train, web_target) ,    (fullstack_train, fullstack_target) ]\n",
        "model_list = [(lg_ml_clf, \"ML MODEL\"), (lg_web_clf, \"WEB MODEL\"), (lg_fs_clf, \"FULLSTACK MODEL\")]"
      ],
      "execution_count": 0,
      "outputs": []
    },
    {
      "cell_type": "code",
      "metadata": {
        "id": "t2NuCjE86-J7",
        "colab_type": "code",
        "outputId": "8cea897a-f161-4f61-c986-c6cdd32c9deb",
        "colab": {
          "base_uri": "https://localhost:8080/",
          "height": 34
        }
      },
      "source": [
        "data_list[2][0].shape"
      ],
      "execution_count": 217,
      "outputs": [
        {
          "output_type": "execute_result",
          "data": {
            "text/plain": [
              "(4234, 13)"
            ]
          },
          "metadata": {
            "tags": []
          },
          "execution_count": 217
        }
      ]
    },
    {
      "cell_type": "code",
      "metadata": {
        "id": "hlTOJNnXpLOe",
        "colab_type": "code",
        "colab": {}
      },
      "source": [
        "splitted_data = [ ]\n",
        "for i in np.arange(3):\n",
        "  splitted_data.append(splitter(data_list[i][0], data_list[i][1]))\n"
      ],
      "execution_count": 0,
      "outputs": []
    },
    {
      "cell_type": "code",
      "metadata": {
        "id": "p69n4MtabSrf",
        "colab_type": "code",
        "outputId": "47b41e81-a998-4765-c956-382fb3e30522",
        "colab": {
          "base_uri": "https://localhost:8080/",
          "height": 34
        }
      },
      "source": [
        "splitted_data[0][0].shape"
      ],
      "execution_count": 219,
      "outputs": [
        {
          "output_type": "execute_result",
          "data": {
            "text/plain": [
              "(3337, 9)"
            ]
          },
          "metadata": {
            "tags": []
          },
          "execution_count": 219
        }
      ]
    },
    {
      "cell_type": "code",
      "metadata": {
        "id": "IckQAm9nXSV9",
        "colab_type": "code",
        "colab": {}
      },
      "source": [
        ""
      ],
      "execution_count": 0,
      "outputs": []
    },
    {
      "cell_type": "code",
      "metadata": {
        "id": "G6GOc5FUXSSO",
        "colab_type": "code",
        "colab": {}
      },
      "source": [
        ""
      ],
      "execution_count": 0,
      "outputs": []
    },
    {
      "cell_type": "markdown",
      "metadata": {
        "id": "BwXAxz-4XEpF",
        "colab_type": "text"
      },
      "source": [
        "## Fiting , Scoring , Evaluating and plotting  Confusion Matrix, ROC Curve"
      ]
    },
    {
      "cell_type": "code",
      "metadata": {
        "id": "5JQpfbZ2p_T_",
        "colab_type": "code",
        "outputId": "534b8c22-81af-415f-c22f-afc2b84759bd",
        "colab": {
          "base_uri": "https://localhost:8080/",
          "height": 1000
        }
      },
      "source": [
        "# Fitting each model with their specific training types.\n",
        "scores = []\n",
        "i = 0 \n",
        "for X_train,y_train,X_test,y_test in splitted_data:\n",
        "  model_list[i][0].fit(X_train,y_train)\n",
        "  scores.append( (model_list[i][1], model_list[i][0].score(X_test, y_test)) )\n",
        "  print(\"~\"*75+\"\\nAccuracy of \",model_list[i][1])\n",
        "  print( model_list[i][0].score(X_test, y_test))\n",
        "  print(\"\\nConfusion Matrix for \",model_list[i][1])\n",
        "  print(confusion_matrix(y_test, model_list[i][0].predict(X_test)) )\n",
        "  predictions = model_list[i][0].predict(X_test)\n",
        "  sns.heatmap( confusion_matrix(y_test, predictions), annot=True )\n",
        "  plt.show()\n",
        "  print(\"ROC curve:\")\n",
        "  fpr, tpr, thresholds = roc_curve(y_test, predictions)\n",
        "  plt.figure()\n",
        "  plot_roc_curve(fpr, tpr)\n",
        "  plt.show()\n",
        "  i = i+1"
      ],
      "execution_count": 220,
      "outputs": [
        {
          "output_type": "stream",
          "text": [
            "~~~~~~~~~~~~~~~~~~~~~~~~~~~~~~~~~~~~~~~~~~~~~~~~~~~~~~~~~~~~~~~~~~~~~~~~~~~\n",
            "Accuracy of  ML MODEL\n",
            "0.9988023952095808\n",
            "\n",
            "Confusion Matrix for  ML MODEL\n",
            "[[413   1]\n",
            " [  0 421]]\n"
          ],
          "name": "stdout"
        },
        {
          "output_type": "display_data",
          "data": {
            "image/png": "[encoded data removed]",
            "text/plain": [
              "<Figure size 432x288 with 2 Axes>"
            ]
          },
          "metadata": {
            "tags": [],
            "needs_background": "light"
          }
        },
        {
          "output_type": "stream",
          "text": [
            "ROC curve:\n"
          ],
          "name": "stdout"
        },
        {
          "output_type": "display_data",
          "data": {
            "image/png": "[encoded data removed]",
            "text/plain": [
              "<Figure size 432x288 with 1 Axes>"
            ]
          },
          "metadata": {
            "tags": [],
            "needs_background": "light"
          }
        },
        {
          "output_type": "stream",
          "text": [
            "~~~~~~~~~~~~~~~~~~~~~~~~~~~~~~~~~~~~~~~~~~~~~~~~~~~~~~~~~~~~~~~~~~~~~~~~~~~\n",
            "Accuracy of  WEB MODEL\n",
            "1.0\n",
            "\n",
            "Confusion Matrix for  WEB MODEL\n",
            "[[419   0]\n",
            " [  0 420]]\n"
          ],
          "name": "stdout"
        },
        {
          "output_type": "display_data",
          "data": {
            "image/png": "[encoded data removed]",
            "text/plain": [
              "<Figure size 432x288 with 2 Axes>"
            ]
          },
          "metadata": {
            "tags": [],
            "needs_background": "light"
          }
        },
        {
          "output_type": "stream",
          "text": [
            "ROC curve:\n"
          ],
          "name": "stdout"
        },
        {
          "output_type": "display_data",
          "data": {
            "image/png": "[encoded data removed]",
            "text/plain": [
              "<Figure size 432x288 with 1 Axes>"
            ]
          },
          "metadata": {
            "tags": [],
            "needs_background": "light"
          }
        },
        {
          "output_type": "stream",
          "text": [
            "~~~~~~~~~~~~~~~~~~~~~~~~~~~~~~~~~~~~~~~~~~~~~~~~~~~~~~~~~~~~~~~~~~~~~~~~~~~\n",
            "Accuracy of  FULLSTACK MODEL\n",
            "1.0\n",
            "\n",
            "Confusion Matrix for  FULLSTACK MODEL\n",
            "[[418   0]\n",
            " [  0 429]]\n"
          ],
          "name": "stdout"
        },
        {
          "output_type": "display_data",
          "data": {
            "image/png": "[encoded data removed]",
            "text/plain": [
              "<Figure size 432x288 with 2 Axes>"
            ]
          },
          "metadata": {
            "tags": [],
            "needs_background": "light"
          }
        },
        {
          "output_type": "stream",
          "text": [
            "ROC curve:\n"
          ],
          "name": "stdout"
        },
        {
          "output_type": "display_data",
          "data": {
            "image/png": "[encoded data removed]",
            "text/plain": [
              "<Figure size 432x288 with 1 Axes>"
            ]
          },
          "metadata": {
            "tags": [],
            "needs_background": "light"
          }
        }
      ]
    },
    {
      "cell_type": "markdown",
      "metadata": {
        "id": "a7S4NHa9wHgk",
        "colab_type": "text"
      },
      "source": [
        "## Accuracy on TestSet "
      ]
    },
    {
      "cell_type": "code",
      "metadata": {
        "id": "DhwKU0_YuRq7",
        "colab_type": "code",
        "outputId": "c867de43-292e-4444-8ddc-9c9d63832b0a",
        "colab": {
          "base_uri": "https://localhost:8080/",
          "height": 51
        }
      },
      "source": [
        "print(\"ACCURACY ON TEST SET :\\n\",scores)"
      ],
      "execution_count": 221,
      "outputs": [
        {
          "output_type": "stream",
          "text": [
            "ACCURACY ON TEST SET :\n",
            " [('ML MODEL', 0.9988023952095808), ('WEB MODEL', 1.0), ('FULLSTACK MODEL', 1.0)]\n"
          ],
          "name": "stdout"
        }
      ]
    },
    {
      "cell_type": "markdown",
      "metadata": {
        "id": "5LtNANYMwTGh",
        "colab_type": "text"
      },
      "source": [
        "## Though this accuracy is high but its not that great when tested on real data. Let's check on some generated data."
      ]
    },
    {
      "cell_type": "markdown",
      "metadata": {
        "id": "aqc4xf3d0dGl",
        "colab_type": "text"
      },
      "source": [
        "## On generated data it's performance wont be that good"
      ]
    },
    {
      "cell_type": "code",
      "metadata": {
        "id": "FWp88yZBAmm0",
        "colab_type": "code",
        "colab": {}
      },
      "source": [
        ""
      ],
      "execution_count": 0,
      "outputs": []
    },
    {
      "cell_type": "code",
      "metadata": {
        "id": "qKTSiJTb1pb7",
        "colab_type": "code",
        "colab": {}
      },
      "source": [
        "requirements = [ML_requirements, WEB_requirements, FULLSTACK_requirements]"
      ],
      "execution_count": 0,
      "outputs": []
    },
    {
      "cell_type": "code",
      "metadata": {
        "id": "RlJH0vvt2BDl",
        "colab_type": "code",
        "colab": {}
      },
      "source": [
        "\n",
        "# Function to generate sample cases of applicants and teting our classifer on them.\n",
        "\n",
        "def generated_data_accuracy(models ,no_of_rows = 100):\n",
        "  for ix in np.arange(len(models)):\n",
        "      a = np.random.randint(2, size=(no_of_rows, len(requirements[ix])))\n",
        "      a = pd.DataFrame(a, columns=requirements[ix])\n",
        "      \n",
        "      pred_labels = models[ix][0].predict(a)\n",
        "      \n",
        "      true_labels = []\n",
        "      val = a.values\n",
        "\n",
        "\n",
        "      for i  in np.arange(len(a)):\n",
        "        if(np.count_nonzero(val[:][i] == 1) >= threshold[ix]):\n",
        "          true_labels.append(1)\n",
        "        else:\n",
        "          true_labels.append(0)\n",
        "      \n",
        "      print(\"*\"*75+\"\\n\\n\")\n",
        "      print(models[ix][1],end=\"\\n\\n\")\n",
        "      print(\"ACCURACY \",accuracy_score(true_labels, pred_labels))\n",
        "      print(\"\\nConfusion Matrix:\\n\", confusion_matrix(true_labels, pred_labels))\n",
        "      print(\"\\nHeatMap\")\n",
        "      sns.heatmap(confusion_matrix(true_labels, pred_labels), annot=True)\n",
        "      plt.show()\n",
        "      print(\"ROC curve:\")\n",
        "      fpr, tpr, thresholds = roc_curve(true_labels, pred_labels)\n",
        "      plt.figure()\n",
        "      plot_roc_curve(fpr, tpr)\n",
        "      plt.show()\n",
        "      "
      ],
      "execution_count": 0,
      "outputs": []
    },
    {
      "cell_type": "code",
      "metadata": {
        "id": "SLefDimy2b_J",
        "colab_type": "code",
        "outputId": "a2305963-96ad-4386-d889-5851d37dba3b",
        "colab": {
          "base_uri": "https://localhost:8080/",
          "height": 1000
        }
      },
      "source": [
        "generated_data_accuracy(model_list,10000)"
      ],
      "execution_count": 224,
      "outputs": [
        {
          "output_type": "stream",
          "text": [
            "***************************************************************************\n",
            "\n",
            "\n",
            "ML MODEL\n",
            "\n",
            "ACCURACY  0.8806\n",
            "\n",
            "Confusion Matrix:\n",
            " [[3985  995]\n",
            " [ 199 4821]]\n",
            "\n",
            "HeatMap\n"
          ],
          "name": "stdout"
        },
        {
          "output_type": "display_data",
          "data": {
            "image/png": "[encoded data removed]",
            "text/plain": [
              "<Figure size 432x288 with 2 Axes>"
            ]
          },
          "metadata": {
            "tags": [],
            "needs_background": "light"
          }
        },
        {
          "output_type": "stream",
          "text": [
            "ROC curve:\n"
          ],
          "name": "stdout"
        },
        {
          "output_type": "display_data",
          "data": {
            "image/png": "[encoded data removed]",
            "text/plain": [
              "<Figure size 432x288 with 1 Axes>"
            ]
          },
          "metadata": {
            "tags": [],
            "needs_background": "light"
          }
        },
        {
          "output_type": "stream",
          "text": [
            "***************************************************************************\n",
            "\n",
            "\n",
            "WEB MODEL\n",
            "\n",
            "ACCURACY  0.9958\n",
            "\n",
            "Confusion Matrix:\n",
            " [[6010   42]\n",
            " [   0 3948]]\n",
            "\n",
            "HeatMap\n"
          ],
          "name": "stdout"
        },
        {
          "output_type": "display_data",
          "data": {
            "image/png": "[encoded data removed]",
            "text/plain": [
              "<Figure size 432x288 with 2 Axes>"
            ]
          },
          "metadata": {
            "tags": [],
            "needs_background": "light"
          }
        },
        {
          "output_type": "stream",
          "text": [
            "ROC curve:\n"
          ],
          "name": "stdout"
        },
        {
          "output_type": "display_data",
          "data": {
            "image/png": "[encoded data removed]",
            "text/plain": [
              "<Figure size 432x288 with 1 Axes>"
            ]
          },
          "metadata": {
            "tags": [],
            "needs_background": "light"
          }
        },
        {
          "output_type": "stream",
          "text": [
            "***************************************************************************\n",
            "\n",
            "\n",
            "FULLSTACK MODEL\n",
            "\n",
            "ACCURACY  0.9212\n",
            "\n",
            "Confusion Matrix:\n",
            " [[6412  701]\n",
            " [  87 2800]]\n",
            "\n",
            "HeatMap\n"
          ],
          "name": "stdout"
        },
        {
          "output_type": "display_data",
          "data": {
            "image/png": "[encoded data removed]",
            "text/plain": [
              "<Figure size 432x288 with 2 Axes>"
            ]
          },
          "metadata": {
            "tags": [],
            "needs_background": "light"
          }
        },
        {
          "output_type": "stream",
          "text": [
            "ROC curve:\n"
          ],
          "name": "stdout"
        },
        {
          "output_type": "display_data",
          "data": {
            "image/png": "[encoded data removed]",
            "text/plain": [
              "<Figure size 432x288 with 1 Axes>"
            ]
          },
          "metadata": {
            "tags": [],
            "needs_background": "light"
          }
        }
      ]
    },
    {
      "cell_type": "markdown",
      "metadata": {
        "id": "Zfhe7kXDXlki",
        "colab_type": "text"
      },
      "source": [
        "## The classifiers performed well!"
      ]
    },
    {
      "cell_type": "code",
      "metadata": {
        "id": "N3V_9V6QXqfo",
        "colab_type": "code",
        "colab": {}
      },
      "source": [
        ""
      ],
      "execution_count": 0,
      "outputs": []
    },
    {
      "cell_type": "code",
      "metadata": {
        "id": "_XQRtTzEXqcG",
        "colab_type": "code",
        "colab": {}
      },
      "source": [
        ""
      ],
      "execution_count": 0,
      "outputs": []
    },
    {
      "cell_type": "code",
      "metadata": {
        "id": "VQ5m9uBKLB64",
        "colab_type": "code",
        "colab": {}
      },
      "source": [
        ""
      ],
      "execution_count": 0,
      "outputs": []
    },
    {
      "cell_type": "markdown",
      "metadata": {
        "id": "gizobFjMXrJG",
        "colab_type": "text"
      },
      "source": [
        "# Making our model as described in the task:\n",
        "- input : \n",
        "  - desired role\n",
        "  - skills\n",
        "- output :\n",
        "  - shortlisted or not shortlisted\n",
        "  - if not shortlisted show the skillgap"
      ]
    },
    {
      "cell_type": "code",
      "metadata": {
        "id": "cqkmSeZHLJe8",
        "colab_type": "code",
        "colab": {}
      },
      "source": [
        "class Model:\n",
        "  def __init__(self):\n",
        "    \"\"\"\n",
        "    Loading the classifiers in the models\n",
        "    \"\"\"\n",
        "    self.models = model_list\n",
        " \n",
        "  def predict_shortlisting(self,desired_role, skills):\n",
        "    \n",
        "    \"\"\"\n",
        "    Designation\n",
        "    0 for ML\n",
        "    1 for WEB\n",
        "    2 for FULLSTACK\n",
        "    \"\"\"\n",
        "\n",
        "    # designation = eval(input(\"Enter the designation you want to apply for:\\n 0 : MACHINE LEARNING\\n 1 : WEB\\n 2 : FULLSTACK\\n\"))\n",
        "    if(desired_role != 0 and desired_role != 1 and desired_role != 2):\n",
        "      print(\"Wrong Designation Entered !\")\n",
        "      return\n",
        "\n",
        "\n",
        "    skills = skills.split(\",\")\n",
        "    skill_list = []\n",
        "    for skill in skills:\n",
        "      if len(skill.strip()) <= 1:\n",
        "        pass\n",
        "      else:\n",
        "\n",
        "        skill_list.append((skill.strip()))\n",
        "\n",
        "    print(\"\\n\\nYour skillset :\\n\",skill_list)\n",
        "    \n",
        "    \n",
        "    # Now preprocessing list values to model input format:\n",
        "\n",
        "    a = np.zeros( ( 1,len(requirements[desired_role]) ) )\n",
        "    query = pd.DataFrame(a, columns = requirements[desired_role])   #dataframe\n",
        "    for column in requirements[desired_role]:\n",
        "      for skill in skill_list:\n",
        "        #checking whether the skill entered is present even in the sub part of the column name or not.\n",
        "\n",
        "        if(column.lower().find(skill.lower()) != -1 ):\n",
        "          # handling our exception case of Java and JavaScript\n",
        "          if(column == \"JavaScript\" and skill==\"Java\"):    \n",
        "            pass\n",
        "          else:  \n",
        "            query[column][0] = 1\n",
        "\n",
        "    #Prediction      \n",
        "    prediction = self.models[desired_role][0].predict(query.values)\n",
        "    \n",
        "    print(\"\\n\",self.models[desired_role][1].split(\" \")[0])\n",
        "    if(prediction == 0 ):\n",
        "      \n",
        "      print(\"-\"*50+\"\\nNOT SHORTLISTED\") \n",
        "      skillgap = \"\"\n",
        "      for ix in np.arange(query.values.shape[1]):\n",
        "        if query.values[0][ix] == 0:\n",
        "          skillgap = skillgap + requirements[desired_role][ix] + \",\"\n",
        "      print(\"Work to compensate the skills shown below :\")\n",
        "      print(\"SKILLGAP :\",skillgap)\n",
        "    else:\n",
        "      print(\"-\"*50+\"\\nSHORTLISTED \")\n",
        "    \n",
        "    print(\"\\n\\n\"+\"*\"*100)\n",
        "    return\n",
        "  \n",
        "\n"
      ],
      "execution_count": 0,
      "outputs": []
    },
    {
      "cell_type": "markdown",
      "metadata": {
        "id": "yWGDu_ZKY9pi",
        "colab_type": "text"
      },
      "source": [
        "# Making our predictions"
      ]
    },
    {
      "cell_type": "code",
      "metadata": {
        "id": "LuFt0jIbOnTv",
        "colab_type": "code",
        "outputId": "7e88d2a6-b74b-47c9-be40-91e49daa70b4",
        "colab": {
          "base_uri": "https://localhost:8080/",
          "height": 1000
        }
      },
      "source": [
        "M =  Model()\n",
        "# basic predictions\n",
        "M.predict_shortlisting(0,\"python, machine learning, aws, sql\")\n",
        "M.predict_shortlisting(0,\"python, machine learning, aws, sql, Deep learning,flask, heroku\")\n",
        "M.predict_shortlisting(1,\"html, css , bootstrap, rest api, javascript, json, mysql\")\n",
        "M.predict_shortlisting(1,\"html, css, ajax , bootstrap, git, aws, rest api, php, javascript, json, mysql\")\n",
        "M.predict_shortlisting(2,\"javascript, mongodb, express.js, python, aws, gcp, nodejs\")\n",
        "M.predict_shortlisting(2,\"javascript, mongodb, express.js, python, aws, gcp, nodejs, reactjs, gcp, redux\")\n",
        "\n"
      ],
      "execution_count": 226,
      "outputs": [
        {
          "output_type": "stream",
          "text": [
            "\n",
            "\n",
            "Your skillset :\n",
            " ['python', 'machine learning', 'aws', 'sql']\n",
            "\n",
            " ML\n",
            "--------------------------------------------------\n",
            "NOT SHORTLISTED\n",
            "Work to compensate the skills shown below :\n",
            "SKILLGAP :  Deep Learning , Flask , JSON , GCP Google Cloud Computing Google Cloud Platform , Heroku ,\n",
            "\n",
            "\n",
            "****************************************************************************************************\n",
            "\n",
            "\n",
            "Your skillset :\n",
            " ['python', 'machine learning', 'aws', 'sql', 'Deep learning', 'flask', 'heroku']\n",
            "\n",
            " ML\n",
            "--------------------------------------------------\n",
            "SHORTLISTED \n",
            "\n",
            "\n",
            "****************************************************************************************************\n",
            "\n",
            "\n",
            "Your skillset :\n",
            " ['html', 'css', 'bootstrap', 'rest api', 'javascript', 'json', 'mysql']\n",
            "\n",
            " WEB\n",
            "--------------------------------------------------\n",
            "NOT SHORTLISTED\n",
            "Work to compensate the skills shown below :\n",
            "SKILLGAP :  AJAX , PHP , Git GitHub , Python , Linux , AWS Amazon Web Server (AWS) Amazon Web Services (AWS) , GCP Google Cloud Computing Google Cloud Platform ,\n",
            "\n",
            "\n",
            "****************************************************************************************************\n",
            "\n",
            "\n",
            "Your skillset :\n",
            " ['html', 'css', 'ajax', 'bootstrap', 'git', 'aws', 'rest api', 'php', 'javascript', 'json', 'mysql']\n",
            "\n",
            " WEB\n",
            "--------------------------------------------------\n",
            "SHORTLISTED \n",
            "\n",
            "\n",
            "****************************************************************************************************\n",
            "\n",
            "\n",
            "Your skillset :\n",
            " ['javascript', 'mongodb', 'express.js', 'python', 'aws', 'gcp', 'nodejs']\n",
            "\n",
            " FULLSTACK\n",
            "--------------------------------------------------\n",
            "NOT SHORTLISTED\n",
            "Work to compensate the skills shown below :\n",
            "SKILLGAP :  HTML , CSS , React.js REACTJS , Linux , JSON , Node.js , Redux ,\n",
            "\n",
            "\n",
            "****************************************************************************************************\n",
            "\n",
            "\n",
            "Your skillset :\n",
            " ['javascript', 'mongodb', 'express.js', 'python', 'aws', 'gcp', 'nodejs', 'reactjs', 'gcp', 'redux']\n",
            "\n",
            " FULLSTACK\n",
            "--------------------------------------------------\n",
            "SHORTLISTED \n",
            "\n",
            "\n",
            "****************************************************************************************************\n"
          ],
          "name": "stdout"
        }
      ]
    },
    {
      "cell_type": "code",
      "metadata": {
        "id": "jgFdkE7OMOBN",
        "colab_type": "code",
        "outputId": "e49e7907-4594-4d10-91dd-28665fc9a363",
        "colab": {
          "base_uri": "https://localhost:8080/",
          "height": 680
        }
      },
      "source": [
        "# if you have ml skills and apply for web it will be a definite rejection\n",
        "M.predict_shortlisting(1,\"python, machine learning, aws, sql, Deep learning\")                                     # this profile was selected for ML but not for web\n",
        "M.predict_shortlisting(2,\"html, css, ajax , bootstrap, git, aws, rest api, php, javascript, json, mysql\")\n",
        "M.predict_shortlisting(0,\"javascript, mongodb, express.js, python, aws, gcp, nodejs, reactjs, gcp, redux\")"
      ],
      "execution_count": 227,
      "outputs": [
        {
          "output_type": "stream",
          "text": [
            "\n",
            "\n",
            "Your skillset :\n",
            " ['python', 'machine learning', 'aws', 'sql', 'Deep learning']\n",
            "\n",
            " WEB\n",
            "--------------------------------------------------\n",
            "NOT SHORTLISTED\n",
            "Work to compensate the skills shown below :\n",
            "SKILLGAP :  HTML , CSS , Bootstrap , AJAX , JavaScript , PHP , Git GitHub , Linux , JSON , REST API , GCP Google Cloud Computing Google Cloud Platform ,\n",
            "\n",
            "\n",
            "****************************************************************************************************\n",
            "\n",
            "\n",
            "Your skillset :\n",
            " ['html', 'css', 'ajax', 'bootstrap', 'git', 'aws', 'rest api', 'php', 'javascript', 'json', 'mysql']\n",
            "\n",
            " FULLSTACK\n",
            "--------------------------------------------------\n",
            "NOT SHORTLISTED\n",
            "Work to compensate the skills shown below :\n",
            "SKILLGAP :  MongoDB , Express.js , React.js REACTJS , Python , Linux , Node.js , Redux , GCP Google Cloud Computing Google Cloud Platform ,\n",
            "\n",
            "\n",
            "****************************************************************************************************\n",
            "\n",
            "\n",
            "Your skillset :\n",
            " ['javascript', 'mongodb', 'express.js', 'python', 'aws', 'gcp', 'nodejs', 'reactjs', 'gcp', 'redux']\n",
            "\n",
            " ML\n",
            "--------------------------------------------------\n",
            "NOT SHORTLISTED\n",
            "Work to compensate the skills shown below :\n",
            "SKILLGAP :  Machine Learning , Deep Learning , MySQL SQL , Flask , JSON , Heroku ,\n",
            "\n",
            "\n",
            "****************************************************************************************************\n"
          ],
          "name": "stdout"
        }
      ]
    },
    {
      "cell_type": "code",
      "metadata": {
        "id": "fNyrlOZ7Oc2M",
        "colab_type": "code",
        "colab": {}
      },
      "source": [
        ""
      ],
      "execution_count": 0,
      "outputs": []
    }
  ]
}